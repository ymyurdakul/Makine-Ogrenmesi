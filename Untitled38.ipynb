{
 "cells": [
  {
   "cell_type": "code",
   "execution_count": 2,
   "metadata": {},
   "outputs": [],
   "source": [
    "import pandas as pd\n",
    "import numpy as np\n",
    "from matplotlib import pyplot as plt\n"
   ]
  },
  {
   "cell_type": "code",
   "execution_count": 3,
   "metadata": {
    "scrolled": true
   },
   "outputs": [
    {
     "data": {
      "text/html": [
       "<div>\n",
       "<style scoped>\n",
       "    .dataframe tbody tr th:only-of-type {\n",
       "        vertical-align: middle;\n",
       "    }\n",
       "\n",
       "    .dataframe tbody tr th {\n",
       "        vertical-align: top;\n",
       "    }\n",
       "\n",
       "    .dataframe thead th {\n",
       "        text-align: right;\n",
       "    }\n",
       "</style>\n",
       "<table border=\"1\" class=\"dataframe\">\n",
       "  <thead>\n",
       "    <tr style=\"text-align: right;\">\n",
       "      <th></th>\n",
       "      <th>HSCode</th>\n",
       "      <th>Commodity</th>\n",
       "      <th>value</th>\n",
       "      <th>country</th>\n",
       "      <th>year</th>\n",
       "    </tr>\n",
       "  </thead>\n",
       "  <tbody>\n",
       "    <tr>\n",
       "      <th>0</th>\n",
       "      <td>5</td>\n",
       "      <td>PRODUCTS OF ANIMAL ORIGIN, NOT ELSEWHERE SPECI...</td>\n",
       "      <td>0.00</td>\n",
       "      <td>AFGHANISTAN TIS</td>\n",
       "      <td>2018</td>\n",
       "    </tr>\n",
       "    <tr>\n",
       "      <th>1</th>\n",
       "      <td>7</td>\n",
       "      <td>EDIBLE VEGETABLES AND CERTAIN ROOTS AND TUBERS.</td>\n",
       "      <td>12.38</td>\n",
       "      <td>AFGHANISTAN TIS</td>\n",
       "      <td>2018</td>\n",
       "    </tr>\n",
       "    <tr>\n",
       "      <th>2</th>\n",
       "      <td>8</td>\n",
       "      <td>EDIBLE FRUIT AND NUTS; PEEL OR CITRUS FRUIT OR...</td>\n",
       "      <td>268.60</td>\n",
       "      <td>AFGHANISTAN TIS</td>\n",
       "      <td>2018</td>\n",
       "    </tr>\n",
       "    <tr>\n",
       "      <th>3</th>\n",
       "      <td>9</td>\n",
       "      <td>COFFEE, TEA, MATE AND SPICES.</td>\n",
       "      <td>35.48</td>\n",
       "      <td>AFGHANISTAN TIS</td>\n",
       "      <td>2018</td>\n",
       "    </tr>\n",
       "    <tr>\n",
       "      <th>4</th>\n",
       "      <td>11</td>\n",
       "      <td>PRODUCTS OF THE MILLING INDUSTRY; MALT; STARCH...</td>\n",
       "      <td>0.00</td>\n",
       "      <td>AFGHANISTAN TIS</td>\n",
       "      <td>2018</td>\n",
       "    </tr>\n",
       "  </tbody>\n",
       "</table>\n",
       "</div>"
      ],
      "text/plain": [
       "   HSCode                                          Commodity   value  \\\n",
       "0       5  PRODUCTS OF ANIMAL ORIGIN, NOT ELSEWHERE SPECI...    0.00   \n",
       "1       7    EDIBLE VEGETABLES AND CERTAIN ROOTS AND TUBERS.   12.38   \n",
       "2       8  EDIBLE FRUIT AND NUTS; PEEL OR CITRUS FRUIT OR...  268.60   \n",
       "3       9                      COFFEE, TEA, MATE AND SPICES.   35.48   \n",
       "4      11  PRODUCTS OF THE MILLING INDUSTRY; MALT; STARCH...    0.00   \n",
       "\n",
       "           country  year  \n",
       "0  AFGHANISTAN TIS  2018  \n",
       "1  AFGHANISTAN TIS  2018  \n",
       "2  AFGHANISTAN TIS  2018  \n",
       "3  AFGHANISTAN TIS  2018  \n",
       "4  AFGHANISTAN TIS  2018  "
      ]
     },
     "execution_count": 3,
     "metadata": {},
     "output_type": "execute_result"
    }
   ],
   "source": [
    "x=pd.read_csv(\"import.csv\")\n",
    "x=x.fillna(0)\n",
    "x.head()\n",
    "\n"
   ]
  },
  {
   "cell_type": "code",
   "execution_count": 4,
   "metadata": {},
   "outputs": [
    {
     "name": "stdout",
     "output_type": "stream",
     "text": [
      "[0.58184385 0.08153944 0.39001778 0.05990075 0.27084205]\n"
     ]
    },
    {
     "data": {
      "text/plain": [
       "Text(0, 0.5, 'Degree')"
      ]
     },
     "execution_count": 4,
     "metadata": {},
     "output_type": "execute_result"
    },
    {
     "data": {
      "image/png": "[encoded data removed]",
      "text/plain": [
       "<Figure size 432x288 with 1 Axes>"
      ]
     },
     "metadata": {
      "needs_background": "light"
     },
     "output_type": "display_data"
    }
   ],
   "source": [
    "d=pd.read_csv(\"wh_2017.csv\")\n",
    "vals=d.tail()[\"Freedom\"].values\n",
    "print(vals)\n",
    "fig=plt.figure()\n",
    "ax=fig.add_axes([0,0,1,1])\n",
    "ax.plot(vals)\n",
    "ax.set_xlabel(\"Adet\")\n",
    "ax.set_ylabel(\"Degree\")\n"
   ]
  },
  {
   "cell_type": "code",
   "execution_count": 5,
   "metadata": {},
   "outputs": [
    {
     "name": "stdout",
     "output_type": "stream",
     "text": [
      "<class 'pandas.core.frame.DataFrame'>\n",
      "RangeIndex: 27792 entries, 0 to 27791\n",
      "Data columns (total 7 columns):\n",
      "Date-Time      27792 non-null object\n",
      "Mag            27792 non-null float64\n",
      "Type           27792 non-null object\n",
      "Latitude       27792 non-null object\n",
      "Longitude      27792 non-null object\n",
      "Depth          27792 non-null object\n",
      "Region-Name    27792 non-null object\n",
      "dtypes: float64(1), object(6)\n",
      "memory usage: 1.5+ MB\n"
     ]
    },
    {
     "data": {
      "text/html": [
       "<div>\n",
       "<style scoped>\n",
       "    .dataframe tbody tr th:only-of-type {\n",
       "        vertical-align: middle;\n",
       "    }\n",
       "\n",
       "    .dataframe tbody tr th {\n",
       "        vertical-align: top;\n",
       "    }\n",
       "\n",
       "    .dataframe thead th {\n",
       "        text-align: right;\n",
       "    }\n",
       "</style>\n",
       "<table border=\"1\" class=\"dataframe\">\n",
       "  <thead>\n",
       "    <tr style=\"text-align: right;\">\n",
       "      <th></th>\n",
       "      <th>Date-Time</th>\n",
       "      <th>Mag</th>\n",
       "      <th>Type</th>\n",
       "      <th>Latitude</th>\n",
       "      <th>Longitude</th>\n",
       "      <th>Depth</th>\n",
       "      <th>Region-Name</th>\n",
       "    </tr>\n",
       "  </thead>\n",
       "  <tbody>\n",
       "    <tr>\n",
       "      <th>0</th>\n",
       "      <td>20/08/2019 13:03</td>\n",
       "      <td>6.0</td>\n",
       "      <td>Mwp</td>\n",
       "      <td>11.2260› S</td>\n",
       "      <td>166.1947› E</td>\n",
       "      <td>10</td>\n",
       "      <td>Santa Cruz Islands</td>\n",
       "    </tr>\n",
       "    <tr>\n",
       "      <th>1</th>\n",
       "      <td>20/08/2019 12:52</td>\n",
       "      <td>5.3</td>\n",
       "      <td>mb</td>\n",
       "      <td>28.0780› N</td>\n",
       "      <td>130.8128› E</td>\n",
       "      <td>10</td>\n",
       "      <td>Ryukyu Islands, Japan</td>\n",
       "    </tr>\n",
       "    <tr>\n",
       "      <th>2</th>\n",
       "      <td>20/08/2019 11:48</td>\n",
       "      <td>3.3</td>\n",
       "      <td>MLv</td>\n",
       "      <td>36.0899› N</td>\n",
       "      <td>31.1893› E</td>\n",
       "      <td>28</td>\n",
       "      <td>Antalya Korfezi-AKDENIZ</td>\n",
       "    </tr>\n",
       "    <tr>\n",
       "      <th>3</th>\n",
       "      <td>20/08/2019 09:34</td>\n",
       "      <td>4.7</td>\n",
       "      <td>MLv</td>\n",
       "      <td>36.2319› N</td>\n",
       "      <td>31.1347› E</td>\n",
       "      <td>54</td>\n",
       "      <td>Antalya Korfezi-AKDENIZ</td>\n",
       "    </tr>\n",
       "    <tr>\n",
       "      <th>4</th>\n",
       "      <td>20/08/2019 06:58</td>\n",
       "      <td>2.8</td>\n",
       "      <td>MLv</td>\n",
       "      <td>40.7670› N</td>\n",
       "      <td>27.4162› E</td>\n",
       "      <td>16</td>\n",
       "      <td>Marmara Denizi (Bati)</td>\n",
       "    </tr>\n",
       "  </tbody>\n",
       "</table>\n",
       "</div>"
      ],
      "text/plain": [
       "          Date-Time  Mag Type    Latitude    Longitude Depth  \\\n",
       "0  20/08/2019 13:03  6.0  Mwp  11.2260› S  166.1947› E    10   \n",
       "1  20/08/2019 12:52  5.3   mb  28.0780› N  130.8128› E    10   \n",
       "2  20/08/2019 11:48  3.3  MLv  36.0899› N   31.1893› E    28   \n",
       "3  20/08/2019 09:34  4.7  MLv  36.2319› N   31.1347› E    54   \n",
       "4  20/08/2019 06:58  2.8  MLv  40.7670› N   27.4162› E    16   \n",
       "\n",
       "               Region-Name  \n",
       "0       Santa Cruz Islands  \n",
       "1    Ryukyu Islands, Japan  \n",
       "2  Antalya Korfezi-AKDENIZ  \n",
       "3  Antalya Korfezi-AKDENIZ  \n",
       "4    Marmara Denizi (Bati)  "
      ]
     },
     "execution_count": 5,
     "metadata": {},
     "output_type": "execute_result"
    }
   ],
   "source": [
    "k=pd.read_csv(\"deprem.csv\")\n",
    "k.describe()\n",
    "k.info()\n",
    "k.head()"
   ]
  },
  {
   "cell_type": "code",
   "execution_count": 39,
   "metadata": {},
   "outputs": [
    {
     "data": {
      "text/html": [
       "<div>\n",
       "<style scoped>\n",
       "    .dataframe tbody tr th:only-of-type {\n",
       "        vertical-align: middle;\n",
       "    }\n",
       "\n",
       "    .dataframe tbody tr th {\n",
       "        vertical-align: top;\n",
       "    }\n",
       "\n",
       "    .dataframe thead th {\n",
       "        text-align: right;\n",
       "    }\n",
       "</style>\n",
       "<table border=\"1\" class=\"dataframe\">\n",
       "  <thead>\n",
       "    <tr style=\"text-align: right;\">\n",
       "      <th></th>\n",
       "      <th>Country</th>\n",
       "      <th>Happiness.Rank</th>\n",
       "      <th>Happiness.Score</th>\n",
       "      <th>Whisker.high</th>\n",
       "      <th>Whisker.low</th>\n",
       "      <th>Economy..GDP.per.Capita.</th>\n",
       "      <th>Family</th>\n",
       "      <th>Health..Life.Expectancy.</th>\n",
       "      <th>Freedom</th>\n",
       "      <th>Generosity</th>\n",
       "      <th>Trust..Government.Corruption.</th>\n",
       "      <th>Dystopia.Residual</th>\n",
       "    </tr>\n",
       "  </thead>\n",
       "  <tbody>\n",
       "    <tr>\n",
       "      <th>68</th>\n",
       "      <td>Turkey</td>\n",
       "      <td>69</td>\n",
       "      <td>5.5</td>\n",
       "      <td>5.594865</td>\n",
       "      <td>5.405135</td>\n",
       "      <td>1.198274</td>\n",
       "      <td>1.337753</td>\n",
       "      <td>0.637606</td>\n",
       "      <td>0.300741</td>\n",
       "      <td>0.046693</td>\n",
       "      <td>0.099672</td>\n",
       "      <td>1.879278</td>\n",
       "    </tr>\n",
       "  </tbody>\n",
       "</table>\n",
       "</div>"
      ],
      "text/plain": [
       "   Country  Happiness.Rank  Happiness.Score  Whisker.high  Whisker.low  \\\n",
       "68  Turkey              69              5.5      5.594865     5.405135   \n",
       "\n",
       "    Economy..GDP.per.Capita.    Family  Health..Life.Expectancy.   Freedom  \\\n",
       "68                  1.198274  1.337753                  0.637606  0.300741   \n",
       "\n",
       "    Generosity  Trust..Government.Corruption.  Dystopia.Residual  \n",
       "68    0.046693                       0.099672           1.879278  "
      ]
     },
     "execution_count": 39,
     "metadata": {},
     "output_type": "execute_result"
    }
   ],
   "source": [
    "x=pd.read_csv(\"wh_2017.csv\")\n",
    "x[x[\"Country\"]==\"Turkey\"]"
   ]
  },
  {
   "cell_type": "code",
   "execution_count": 36,
   "metadata": {},
   "outputs": [
    {
     "data": {
      "text/plain": [
       "09/05/2012 17:49    3\n",
       "15/11/2014 08:11    3\n",
       "25/03/2012 12:29    2\n",
       "18/09/2014 05:56    2\n",
       "01/11/2014 22:07    2\n",
       "24/03/2015 16:00    2\n",
       "04/09/2015 04:49    2\n",
       "08/02/2017 02:16    2\n",
       "18/03/2016 23:49    2\n",
       "29/06/2015 22:20    2\n",
       "01/07/2017 23:49    2\n",
       "01/07/2015 19:11    2\n",
       "23/01/2016 02:35    2\n",
       "07/09/2015 00:37    2\n",
       "19/02/2015 15:16    2\n",
       "26/11/2016 05:34    2\n",
       "02/02/2016 14:19    2\n",
       "23/02/2017 19:42    2\n",
       "23/05/2016 03:43    2\n",
       "02/12/2017 22:42    2\n",
       "07/01/2016 02:52    2\n",
       "07/02/2017 03:20    2\n",
       "21/07/2018 07:58    2\n",
       "16/04/2015 21:52    2\n",
       "19/04/2019 21:38    2\n",
       "06/06/2015 19:19    2\n",
       "22/05/2013 14:29    2\n",
       "24/02/2017 21:21    2\n",
       "24/07/2016 02:51    2\n",
       "31/10/2017 01:04    2\n",
       "                   ..\n",
       "04/09/2017 21:23    1\n",
       "20/09/2013 02:05    1\n",
       "06/02/2016 03:19    1\n",
       "28/10/2014 18:56    1\n",
       "17/11/2015 11:31    1\n",
       "22/09/2012 23:26    1\n",
       "18/08/2014 18:55    1\n",
       "05/11/2015 21:48    1\n",
       "05/04/2017 21:08    1\n",
       "15/06/2012 09:34    1\n",
       "13/09/2014 05:53    1\n",
       "15/02/2013 14:19    1\n",
       "27/05/2019 16:17    1\n",
       "17/07/2017 01:49    1\n",
       "06/07/2015 11:15    1\n",
       "15/03/2015 00:14    1\n",
       "30/07/2019 08:43    1\n",
       "21/04/2017 02:29    1\n",
       "26/01/2018 02:15    1\n",
       "01/06/2016 15:24    1\n",
       "22/03/2016 14:23    1\n",
       "05/08/2015 11:56    1\n",
       "20/11/2017 04:01    1\n",
       "10/11/2016 07:17    1\n",
       "04/06/2015 00:44    1\n",
       "05/11/2014 00:09    1\n",
       "06/07/2012 22:16    1\n",
       "11/06/2015 16:11    1\n",
       "01/01/2014 18:27    1\n",
       "12/09/2018 18:44    1\n",
       "Name: Date-Time, Length: 27613, dtype: int64"
      ]
     },
     "execution_count": 36,
     "metadata": {},
     "output_type": "execute_result"
    }
   ],
   "source": [
    "#k['Type'].value_counts()\n",
    "#k[\"Region-Name\"].value_counts().head(10).plot(kind=\"bar\")\n",
    "#k[k[\"Date-Time\"]==\"09/05/2012 17:49\"]\n",
    "k[\"Date-Time\"].value_counts()"
   ]
  }
 ],
 "metadata": {
  "kernelspec": {
   "display_name": "Python 3",
   "language": "python",
   "name": "python3"
  },
  "language_info": {
   "codemirror_mode": {
    "name": "ipython",
    "version": 3
   },
   "file_extension": ".py",
   "mimetype": "text/x-python",
   "name": "python",
   "nbconvert_exporter": "python",
   "pygments_lexer": "ipython3",
   "version": "3.7.3"
  }
 },
 "nbformat": 4,
 "nbformat_minor": 2
}
