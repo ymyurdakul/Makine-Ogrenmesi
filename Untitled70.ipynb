{
 "cells": [
  {
   "cell_type": "code",
   "execution_count": 7,
   "metadata": {},
   "outputs": [],
   "source": [
    "name=\"Mustafa\"\n",
    "nl=list(name)"
   ]
  },
  {
   "cell_type": "code",
   "execution_count": 8,
   "metadata": {},
   "outputs": [
    {
     "data": {
      "text/plain": [
       "['M', 'u', 's', 't', 'a', 'f', 'a']"
      ]
     },
     "execution_count": 8,
     "metadata": {},
     "output_type": "execute_result"
    }
   ],
   "source": [
    "nl"
   ]
  },
  {
   "cell_type": "code",
   "execution_count": 13,
   "metadata": {},
   "outputs": [
    {
     "data": {
      "text/plain": [
       "['Mustafa', 'Mustafa', 'Begüm']"
      ]
     },
     "execution_count": 13,
     "metadata": {},
     "output_type": "execute_result"
    }
   ],
   "source": [
    "liste=[\"Ahmet\",\"Mahmut\",\"Begüm\"]\n",
    "liste[0:2]=\"Mustafa\",\"Mustafa\"\n",
    "liste"
   ]
  },
  {
   "cell_type": "code",
   "execution_count": 22,
   "metadata": {},
   "outputs": [
    {
     "name": "stdout",
     "output_type": "stream",
     "text": [
      "Mustafa\n"
     ]
    },
    {
     "data": {
      "text/plain": [
       "20"
      ]
     },
     "execution_count": 22,
     "metadata": {},
     "output_type": "execute_result"
    }
   ],
   "source": [
    "class VeriBilimci():\n",
    "    @staticmethod\n",
    "    def calc(x,y):\n",
    "        return x*y\n",
    "    def __init__(self):\n",
    "        self.langs=[]\n",
    "        self.name=\"\"\n",
    "    def addLang(self,lang):\n",
    "        self.langs.append(lang)\n",
    "    def setName(self,name):\n",
    "        self.name=name\n",
    "    def __str__(self):\n",
    "        return self.name\n",
    "    \n",
    "\n",
    "a1=VeriBilimci()\n",
    "a1.setName(\"Mustafa\")\n",
    "a1.addLang(\"Kayseri\")\n",
    "a1.addLang(\"Istanbul\")\n",
    "print(a1)\n",
    "a1.langs\n",
    "\n",
    "VeriBilimci.calc(4,5)\n"
   ]
  },
  {
   "cell_type": "code",
   "execution_count": 24,
   "metadata": {},
   "outputs": [
    {
     "data": {
      "text/plain": [
       "72"
      ]
     },
     "execution_count": 24,
     "metadata": {},
     "output_type": "execute_result"
    }
   ],
   "source": [
    "fx=lambda x,y:x*y\n",
    "fx(8,9)"
   ]
  },
  {
   "cell_type": "code",
   "execution_count": 39,
   "metadata": {},
   "outputs": [
    {
     "data": {
      "text/plain": [
       "8"
      ]
     },
     "execution_count": 39,
     "metadata": {},
     "output_type": "execute_result"
    }
   ],
   "source": [
    "from functools  import reduce\n",
    "l=[1,2,5]\n",
    "list(map(lambda x:x**2,l))\n",
    "l.sort()\n",
    "list(filter(lambda x:x%2==0,l))\n",
    "reduce(lambda x,y:x+y,l)\n"
   ]
  }
 ],
 "metadata": {
  "kernelspec": {
   "display_name": "Python 3",
   "language": "python",
   "name": "python3"
  },
  "language_info": {
   "codemirror_mode": {
    "name": "ipython",
    "version": 3
   },
   "file_extension": ".py",
   "mimetype": "text/x-python",
   "name": "python",
   "nbconvert_exporter": "python",
   "pygments_lexer": "ipython3",
   "version": "3.7.3"
  }
 },
 "nbformat": 4,
 "nbformat_minor": 2
}
