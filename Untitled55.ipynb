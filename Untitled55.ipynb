{
 "cells": [
  {
   "cell_type": "code",
   "execution_count": 75,
   "metadata": {},
   "outputs": [
    {
     "data": {
      "text/html": [
       "<div>\n",
       "<style scoped>\n",
       "    .dataframe tbody tr th:only-of-type {\n",
       "        vertical-align: middle;\n",
       "    }\n",
       "\n",
       "    .dataframe tbody tr th {\n",
       "        vertical-align: top;\n",
       "    }\n",
       "\n",
       "    .dataframe thead th {\n",
       "        text-align: right;\n",
       "    }\n",
       "</style>\n",
       "<table border=\"1\" class=\"dataframe\">\n",
       "  <thead>\n",
       "    <tr style=\"text-align: right;\">\n",
       "      <th>App</th>\n",
       "      <th>Coloring book moana</th>\n",
       "    </tr>\n",
       "  </thead>\n",
       "  <tbody>\n",
       "    <tr>\n",
       "      <th>Rating</th>\n",
       "      <td>3.900000</td>\n",
       "    </tr>\n",
       "    <tr>\n",
       "      <th>Sentiment_Polarity</th>\n",
       "      <td>0.152652</td>\n",
       "    </tr>\n",
       "    <tr>\n",
       "      <th>Sentiment_Subjectivity</th>\n",
       "      <td>0.641540</td>\n",
       "    </tr>\n",
       "  </tbody>\n",
       "</table>\n",
       "</div>"
      ],
      "text/plain": [
       "App                     Coloring book moana\n",
       "Rating                             3.900000\n",
       "Sentiment_Polarity                 0.152652\n",
       "Sentiment_Subjectivity             0.641540"
      ]
     },
     "execution_count": 75,
     "metadata": {},
     "output_type": "execute_result"
    }
   ],
   "source": [
    "import pandas as pd\n",
    "import numpy as np\n",
    "import seaborn as sns\n",
    "\n",
    "dd=pd.DataFrame(columns=[\"Nufus\",\"Kürt\"],data=[[1500,700],[2500,250]])\n",
    "dd[\"Türk\"]=dd[\"Nufus\"]-dd[\"Kürt\"]\n",
    "cc=sns.load_dataset(\"car_crashes\")\n",
    "cc.set_index([\"abbrev\",\"total\"],inplace=True)\n",
    "cc.mean(level=\"total\")\n",
    "\n",
    "emp=pd.DataFrame(columns=[\"ad\",\"ülke\"],data=[[\"Mustafa\",\"Türkiye\"],[\"Ali\",\"Amerika\"]])\n",
    "emp_sa=pd.DataFrame(columns=[\"ad\",\"maas\"],data=[[\"Mustafa\",15000],[\"Ali\",2052]])\n",
    "pd.merge(left=emp,right=emp_sa,on=\"ad\")\n",
    "gp=pd.read_csv(\"gp.csv\")\n",
    "gp_1=pd.read_csv(\"gp_1.csv\")\n",
    "\n",
    "g=gp[0:4]\n",
    "#pd.merge(gp,gp_1,on=\"App\")\n",
    "d=gp_1[gp_1.App==\"Coloring book moana\"]\n",
    "ne=pd.merge(d,g)\n",
    "ne.set_index(\"App\",inplace=True)\n",
    "ne.pivot_table(columns=[\"App\"])"
   ]
  },
  {
   "cell_type": "code",
   "execution_count": 88,
   "metadata": {},
   "outputs": [
    {
     "data": {
      "text/html": [
       "<div>\n",
       "<style scoped>\n",
       "    .dataframe tbody tr th:only-of-type {\n",
       "        vertical-align: middle;\n",
       "    }\n",
       "\n",
       "    .dataframe tbody tr th {\n",
       "        vertical-align: top;\n",
       "    }\n",
       "\n",
       "    .dataframe thead th {\n",
       "        text-align: right;\n",
       "    }\n",
       "</style>\n",
       "<table border=\"1\" class=\"dataframe\">\n",
       "  <thead>\n",
       "    <tr style=\"text-align: right;\">\n",
       "      <th></th>\n",
       "      <th>Price</th>\n",
       "      <th>Eşya</th>\n",
       "      <th>Boyut</th>\n",
       "    </tr>\n",
       "  </thead>\n",
       "  <tbody>\n",
       "    <tr>\n",
       "      <th>0</th>\n",
       "      <td>2500</td>\n",
       "      <td>Table</td>\n",
       "      <td>2.5</td>\n",
       "    </tr>\n",
       "    <tr>\n",
       "      <th>1</th>\n",
       "      <td>5220</td>\n",
       "      <td>Notebook</td>\n",
       "      <td>3.5</td>\n",
       "    </tr>\n",
       "  </tbody>\n",
       "</table>\n",
       "</div>"
      ],
      "text/plain": [
       "   Price      Eşya  Boyut\n",
       "0   2500     Table    2.5\n",
       "1   5220  Notebook    3.5"
      ]
     },
     "execution_count": 88,
     "metadata": {},
     "output_type": "execute_result"
    }
   ],
   "source": [
    "eng=pd.DataFrame(columns=[\"Property\",\"Price\"],data=[[\"Table\",2500],[\"Notebook\",5220]])\n",
    "turk=pd.DataFrame(columns=[\"Eşya\",\"Boyut\"],data=[[\"Table\",2.5],[\"Notebook\",3.5]])\n",
    "pd.merge(eng,turk,left_on=\"Property\",right_on=\"Eşya\").drop(\"Property\",axis=1).rename({\"Price\":\"Eder\"})\n"
   ]
  },
  {
   "cell_type": "code",
   "execution_count": 94,
   "metadata": {},
   "outputs": [
    {
     "data": {
      "text/html": [
       "<div>\n",
       "<style scoped>\n",
       "    .dataframe tbody tr th:only-of-type {\n",
       "        vertical-align: middle;\n",
       "    }\n",
       "\n",
       "    .dataframe tbody tr th {\n",
       "        vertical-align: top;\n",
       "    }\n",
       "\n",
       "    .dataframe thead th {\n",
       "        text-align: right;\n",
       "    }\n",
       "</style>\n",
       "<table border=\"1\" class=\"dataframe\">\n",
       "  <thead>\n",
       "    <tr style=\"text-align: right;\">\n",
       "      <th></th>\n",
       "      <th>Ad</th>\n",
       "      <th>Not_Turkce</th>\n",
       "      <th>Not_Matematik</th>\n",
       "    </tr>\n",
       "  </thead>\n",
       "  <tbody>\n",
       "    <tr>\n",
       "      <th>0</th>\n",
       "      <td>Ali</td>\n",
       "      <td>90</td>\n",
       "      <td>80</td>\n",
       "    </tr>\n",
       "    <tr>\n",
       "      <th>1</th>\n",
       "      <td>Fırat</td>\n",
       "      <td>15</td>\n",
       "      <td>25</td>\n",
       "    </tr>\n",
       "  </tbody>\n",
       "</table>\n",
       "</div>"
      ],
      "text/plain": [
       "      Ad  Not_Turkce  Not_Matematik\n",
       "0    Ali          90             80\n",
       "1  Fırat          15             25"
      ]
     },
     "execution_count": 94,
     "metadata": {},
     "output_type": "execute_result"
    }
   ],
   "source": [
    "turkce=pd.DataFrame(columns=[\"Ad\",\"Not\"],data=[[\"Ali\",90],[\"Fırat\",15],[\"Veli\",90]])\n",
    "mat=pd.DataFrame(columns=[\"Ad\",\"Not\"],data=[[\"Ali\",80],[\"Fırat\",25],[\"Derya\",20]])\n",
    "\n",
    "pd.merge(left=turkce,right=mat,left_on=\"Ad\",right_on=\"Ad\",suffixes=[\"_Turkce\",\"_Matematik\"])"
   ]
  },
  {
   "cell_type": "code",
   "execution_count": 116,
   "metadata": {},
   "outputs": [
    {
     "data": {
      "text/html": [
       "<div>\n",
       "<style scoped>\n",
       "    .dataframe tbody tr th:only-of-type {\n",
       "        vertical-align: middle;\n",
       "    }\n",
       "\n",
       "    .dataframe tbody tr th {\n",
       "        vertical-align: top;\n",
       "    }\n",
       "\n",
       "    .dataframe thead th {\n",
       "        text-align: right;\n",
       "    }\n",
       "</style>\n",
       "<table border=\"1\" class=\"dataframe\">\n",
       "  <thead>\n",
       "    <tr style=\"text-align: right;\">\n",
       "      <th></th>\n",
       "      <th>state</th>\n",
       "      <th>area (sq. mi)</th>\n",
       "      <th>abbreviation</th>\n",
       "    </tr>\n",
       "  </thead>\n",
       "  <tbody>\n",
       "    <tr>\n",
       "      <th>0</th>\n",
       "      <td>Alabama</td>\n",
       "      <td>52423</td>\n",
       "      <td>AL</td>\n",
       "    </tr>\n",
       "    <tr>\n",
       "      <th>1</th>\n",
       "      <td>Alaska</td>\n",
       "      <td>656425</td>\n",
       "      <td>AK</td>\n",
       "    </tr>\n",
       "    <tr>\n",
       "      <th>2</th>\n",
       "      <td>Arizona</td>\n",
       "      <td>114006</td>\n",
       "      <td>AZ</td>\n",
       "    </tr>\n",
       "    <tr>\n",
       "      <th>3</th>\n",
       "      <td>Arkansas</td>\n",
       "      <td>53182</td>\n",
       "      <td>AR</td>\n",
       "    </tr>\n",
       "    <tr>\n",
       "      <th>4</th>\n",
       "      <td>California</td>\n",
       "      <td>163707</td>\n",
       "      <td>CA</td>\n",
       "    </tr>\n",
       "  </tbody>\n",
       "</table>\n",
       "</div>"
      ],
      "text/plain": [
       "        state  area (sq. mi) abbreviation\n",
       "0     Alabama          52423           AL\n",
       "1      Alaska         656425           AK\n",
       "2     Arizona         114006           AZ\n",
       "3    Arkansas          53182           AR\n",
       "4  California         163707           CA"
      ]
     },
     "execution_count": 116,
     "metadata": {},
     "output_type": "execute_result"
    }
   ],
   "source": [
    "pop = pd.read_csv('state-population.csv')\n",
    "areas = pd.read_csv('state-areas.csv')\n",
    "abbrevs = pd.read_csv('state-abbrevs.csv')\n",
    "pop\n",
    "#abbrevs\n",
    "a=pd.merge(pop,abbrevs,left_on=\"state/region\",right_on=\"abbreviation\")\n",
    "a.merge(areas).drop(\"state/region\",axis=1,inplace=True)\n",
    "a\n",
    "areas\n",
    "pd.merge(left=areas,right=abbrevs).head()\n"
   ]
  }
 ],
 "metadata": {
  "kernelspec": {
   "display_name": "Python 3",
   "language": "python",
   "name": "python3"
  },
  "language_info": {
   "codemirror_mode": {
    "name": "ipython",
    "version": 3
   },
   "file_extension": ".py",
   "mimetype": "text/x-python",
   "name": "python",
   "nbconvert_exporter": "python",
   "pygments_lexer": "ipython3",
   "version": "3.7.3"
  }
 },
 "nbformat": 4,
 "nbformat_minor": 2
}
