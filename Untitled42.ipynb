{
 "cells": [
  {
   "cell_type": "code",
   "execution_count": null,
   "metadata": {},
   "outputs": [],
   "source": [
    "import pandas as pd\n",
    "import numpy as np\n",
    "\n",
    "f=pd.read_csv(\"import.csv\")\n",
    "f[(f[\"year\"]>2014)&(f[\"year\"]<2016)][\"HSCode\"].sum()\n",
    "f[0:5]\n",
    "f\n",
    "f[\"F Score\"]=f[\"HSCode\"]+f[\"value\"]\n",
    "f.T\n",
    "f.values[0]\n",
    "f.loc[f[\"value\"]>10,[\"value\"]]\n",
    "data=f\n",
    "data[data[\"value\"]>10][\"Commodity\"]\n",
    "\n",
    "data[\"value\"].sum()\n",
    "\n",
    "a=np.array([1,2,np.NaN])\n",
    "np.nansum(a)\n",
    "data.fillna(0,inplace=True)\n",
    "data.set_index([\"year\",\"value\"])\n",
    "data.head(4).mean(axis=1,level=\"type\")\n"
   ]
  },
  {
   "cell_type": "code",
   "execution_count": null,
   "metadata": {},
   "outputs": [],
   "source": []
  }
 ],
 "metadata": {
  "kernelspec": {
   "display_name": "Python 3",
   "language": "python",
   "name": "python3"
  },
  "language_info": {
   "codemirror_mode": {
    "name": "ipython",
    "version": 3
   },
   "file_extension": ".py",
   "mimetype": "text/x-python",
   "name": "python",
   "nbconvert_exporter": "python",
   "pygments_lexer": "ipython3",
   "version": "3.7.3"
  }
 },
 "nbformat": 4,
 "nbformat_minor": 2
}
