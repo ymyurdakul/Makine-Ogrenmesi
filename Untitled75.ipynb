{
 "cells": [
  {
   "cell_type": "code",
   "execution_count": 1,
   "metadata": {},
   "outputs": [],
   "source": [
    "import pandas as pd\n",
    "import seaborn as sns\n",
    "import numpy as np"
   ]
  },
  {
   "cell_type": "code",
   "execution_count": 55,
   "metadata": {},
   "outputs": [
    {
     "data": {
      "text/html": [
       "<div>\n",
       "<style scoped>\n",
       "    .dataframe tbody tr th:only-of-type {\n",
       "        vertical-align: middle;\n",
       "    }\n",
       "\n",
       "    .dataframe tbody tr th {\n",
       "        vertical-align: top;\n",
       "    }\n",
       "\n",
       "    .dataframe thead th {\n",
       "        text-align: right;\n",
       "    }\n",
       "</style>\n",
       "<table border=\"1\" class=\"dataframe\">\n",
       "  <thead>\n",
       "    <tr style=\"text-align: right;\">\n",
       "      <th></th>\n",
       "      <th>12 months ending</th>\n",
       "      <th>PFA</th>\n",
       "      <th>Region</th>\n",
       "      <th>Offence</th>\n",
       "      <th>Rolling year total number of offences</th>\n",
       "    </tr>\n",
       "  </thead>\n",
       "  <tbody>\n",
       "    <tr>\n",
       "      <th>0</th>\n",
       "      <td>31/03/2003</td>\n",
       "      <td>Avon and Somerset</td>\n",
       "      <td>South West</td>\n",
       "      <td>All other theft offences</td>\n",
       "      <td>25959</td>\n",
       "    </tr>\n",
       "    <tr>\n",
       "      <th>1</th>\n",
       "      <td>31/03/2003</td>\n",
       "      <td>Avon and Somerset</td>\n",
       "      <td>South West</td>\n",
       "      <td>Bicycle theft</td>\n",
       "      <td>3090</td>\n",
       "    </tr>\n",
       "    <tr>\n",
       "      <th>2</th>\n",
       "      <td>31/03/2003</td>\n",
       "      <td>Avon and Somerset</td>\n",
       "      <td>South West</td>\n",
       "      <td>Criminal damage and arson</td>\n",
       "      <td>26202</td>\n",
       "    </tr>\n",
       "    <tr>\n",
       "      <th>3</th>\n",
       "      <td>31/03/2003</td>\n",
       "      <td>Avon and Somerset</td>\n",
       "      <td>South West</td>\n",
       "      <td>Death or serious injury caused by illegal driving</td>\n",
       "      <td>2</td>\n",
       "    </tr>\n",
       "    <tr>\n",
       "      <th>4</th>\n",
       "      <td>31/03/2003</td>\n",
       "      <td>Avon and Somerset</td>\n",
       "      <td>South West</td>\n",
       "      <td>Domestic burglary</td>\n",
       "      <td>14561</td>\n",
       "    </tr>\n",
       "  </tbody>\n",
       "</table>\n",
       "</div>"
      ],
      "text/plain": [
       "  12 months ending                PFA      Region  \\\n",
       "0       31/03/2003  Avon and Somerset  South West   \n",
       "1       31/03/2003  Avon and Somerset  South West   \n",
       "2       31/03/2003  Avon and Somerset  South West   \n",
       "3       31/03/2003  Avon and Somerset  South West   \n",
       "4       31/03/2003  Avon and Somerset  South West   \n",
       "\n",
       "                                             Offence  \\\n",
       "0                           All other theft offences   \n",
       "1                                      Bicycle theft   \n",
       "2                          Criminal damage and arson   \n",
       "3  Death or serious injury caused by illegal driving   \n",
       "4                                  Domestic burglary   \n",
       "\n",
       "   Rolling year total number of offences  \n",
       "0                                  25959  \n",
       "1                                   3090  \n",
       "2                                  26202  \n",
       "3                                      2  \n",
       "4                                  14561  "
      ]
     },
     "execution_count": 55,
     "metadata": {},
     "output_type": "execute_result"
    }
   ],
   "source": [
    "rec=pd.read_csv(\"rec.csv\")\n",
    "rec=rec.head(5000)\n",
    "rec.head()"
   ]
  },
  {
   "cell_type": "code",
   "execution_count": null,
   "metadata": {},
   "outputs": [],
   "source": []
  },
  {
   "cell_type": "code",
   "execution_count": 16,
   "metadata": {},
   "outputs": [],
   "source": [
    "pv=rec.pivot_table(index=\"12 months ending\",values=\"Offence\",aggfunc=lambda x:\"-\"+str(x),columns=\"Region\")"
   ]
  },
  {
   "cell_type": "code",
   "execution_count": 25,
   "metadata": {},
   "outputs": [
    {
     "data": {
      "text/html": [
       "<div>\n",
       "<style scoped>\n",
       "    .dataframe tbody tr th:only-of-type {\n",
       "        vertical-align: middle;\n",
       "    }\n",
       "\n",
       "    .dataframe tbody tr th {\n",
       "        vertical-align: top;\n",
       "    }\n",
       "\n",
       "    .dataframe thead th {\n",
       "        text-align: right;\n",
       "    }\n",
       "</style>\n",
       "<table border=\"1\" class=\"dataframe\">\n",
       "  <thead>\n",
       "    <tr style=\"text-align: right;\">\n",
       "      <th>Region</th>\n",
       "      <th>British Transport Police</th>\n",
       "      <th>East</th>\n",
       "      <th>East Midlands</th>\n",
       "      <th>London</th>\n",
       "      <th>North East</th>\n",
       "      <th>North West</th>\n",
       "      <th>South East</th>\n",
       "      <th>South West</th>\n",
       "      <th>Wales</th>\n",
       "      <th>West Midlands</th>\n",
       "      <th>Yorkshire and The Humber</th>\n",
       "    </tr>\n",
       "    <tr>\n",
       "      <th>12 months ending</th>\n",
       "      <th></th>\n",
       "      <th></th>\n",
       "      <th></th>\n",
       "      <th></th>\n",
       "      <th></th>\n",
       "      <th></th>\n",
       "      <th></th>\n",
       "      <th></th>\n",
       "      <th></th>\n",
       "      <th></th>\n",
       "      <th></th>\n",
       "    </tr>\n",
       "  </thead>\n",
       "  <tbody>\n",
       "    <tr>\n",
       "      <th>30/06/2007</th>\n",
       "      <td>-4440                             All other th...</td>\n",
       "      <td>-4420                             All other th...</td>\n",
       "      <td>-4560                             All other th...</td>\n",
       "      <td>-4500                             All other th...</td>\n",
       "      <td>-4520                             All other th...</td>\n",
       "      <td>-4480                             All other th...</td>\n",
       "      <td>-4740                             All other th...</td>\n",
       "      <td>-4400                             All other th...</td>\n",
       "      <td>-4640                             All other th...</td>\n",
       "      <td>NaN</td>\n",
       "      <td>-4780                             All other th...</td>\n",
       "    </tr>\n",
       "    <tr>\n",
       "      <th>31/03/2003</th>\n",
       "      <td>-40                             All other thef...</td>\n",
       "      <td>-20                              All other the...</td>\n",
       "      <td>-160                             All other the...</td>\n",
       "      <td>-100                             All other the...</td>\n",
       "      <td>-120                             All other the...</td>\n",
       "      <td>-80                              All other the...</td>\n",
       "      <td>-340                             All other the...</td>\n",
       "      <td>-0                               All other the...</td>\n",
       "      <td>-240                             All other the...</td>\n",
       "      <td>-680                             All other the...</td>\n",
       "      <td>-380                             All other the...</td>\n",
       "    </tr>\n",
       "    <tr>\n",
       "      <th>31/03/2004</th>\n",
       "      <td>-920                             All other the...</td>\n",
       "      <td>-900                              All other th...</td>\n",
       "      <td>-1040                             All other th...</td>\n",
       "      <td>-980                              All other th...</td>\n",
       "      <td>-1000                             All other th...</td>\n",
       "      <td>-960                              All other th...</td>\n",
       "      <td>-1220                             All other th...</td>\n",
       "      <td>-880                              All other th...</td>\n",
       "      <td>-1120                             All other th...</td>\n",
       "      <td>-1560                             All other th...</td>\n",
       "      <td>-1260                             All other th...</td>\n",
       "    </tr>\n",
       "    <tr>\n",
       "      <th>31/03/2005</th>\n",
       "      <td>-1800                             All other th...</td>\n",
       "      <td>-1780                             All other th...</td>\n",
       "      <td>-1920                             All other th...</td>\n",
       "      <td>-1860                             All other th...</td>\n",
       "      <td>-1880                             All other th...</td>\n",
       "      <td>-1840                             All other th...</td>\n",
       "      <td>-2100                             All other th...</td>\n",
       "      <td>-1760                             All other th...</td>\n",
       "      <td>-2000                             All other th...</td>\n",
       "      <td>-2440                             All other th...</td>\n",
       "      <td>-2140                             All other th...</td>\n",
       "    </tr>\n",
       "    <tr>\n",
       "      <th>31/03/2006</th>\n",
       "      <td>-2680                             All other th...</td>\n",
       "      <td>-2660                             All other th...</td>\n",
       "      <td>-2800                             All other th...</td>\n",
       "      <td>-2740                             All other th...</td>\n",
       "      <td>-2760                             All other th...</td>\n",
       "      <td>-2720                             All other th...</td>\n",
       "      <td>-2980                             All other th...</td>\n",
       "      <td>-2640                             All other th...</td>\n",
       "      <td>-2880                             All other th...</td>\n",
       "      <td>-3320                             All other th...</td>\n",
       "      <td>-3020                             All other th...</td>\n",
       "    </tr>\n",
       "    <tr>\n",
       "      <th>31/03/2007</th>\n",
       "      <td>-3560                             All other th...</td>\n",
       "      <td>-3540                             All other th...</td>\n",
       "      <td>-3680                             All other th...</td>\n",
       "      <td>-3620                             All other th...</td>\n",
       "      <td>-3640                             All other th...</td>\n",
       "      <td>-3600                             All other th...</td>\n",
       "      <td>-3860                             All other th...</td>\n",
       "      <td>-3520                             All other th...</td>\n",
       "      <td>-3760                             All other th...</td>\n",
       "      <td>-4200                             All other th...</td>\n",
       "      <td>-3900                             All other th...</td>\n",
       "    </tr>\n",
       "  </tbody>\n",
       "</table>\n",
       "</div>"
      ],
      "text/plain": [
       "Region                                     British Transport Police  \\\n",
       "12 months ending                                                      \n",
       "30/06/2007        -4440                             All other th...   \n",
       "31/03/2003        -40                             All other thef...   \n",
       "31/03/2004        -920                             All other the...   \n",
       "31/03/2005        -1800                             All other th...   \n",
       "31/03/2006        -2680                             All other th...   \n",
       "31/03/2007        -3560                             All other th...   \n",
       "\n",
       "Region                                                         East  \\\n",
       "12 months ending                                                      \n",
       "30/06/2007        -4420                             All other th...   \n",
       "31/03/2003        -20                              All other the...   \n",
       "31/03/2004        -900                              All other th...   \n",
       "31/03/2005        -1780                             All other th...   \n",
       "31/03/2006        -2660                             All other th...   \n",
       "31/03/2007        -3540                             All other th...   \n",
       "\n",
       "Region                                                East Midlands  \\\n",
       "12 months ending                                                      \n",
       "30/06/2007        -4560                             All other th...   \n",
       "31/03/2003        -160                             All other the...   \n",
       "31/03/2004        -1040                             All other th...   \n",
       "31/03/2005        -1920                             All other th...   \n",
       "31/03/2006        -2800                             All other th...   \n",
       "31/03/2007        -3680                             All other th...   \n",
       "\n",
       "Region                                                       London  \\\n",
       "12 months ending                                                      \n",
       "30/06/2007        -4500                             All other th...   \n",
       "31/03/2003        -100                             All other the...   \n",
       "31/03/2004        -980                              All other th...   \n",
       "31/03/2005        -1860                             All other th...   \n",
       "31/03/2006        -2740                             All other th...   \n",
       "31/03/2007        -3620                             All other th...   \n",
       "\n",
       "Region                                                   North East  \\\n",
       "12 months ending                                                      \n",
       "30/06/2007        -4520                             All other th...   \n",
       "31/03/2003        -120                             All other the...   \n",
       "31/03/2004        -1000                             All other th...   \n",
       "31/03/2005        -1880                             All other th...   \n",
       "31/03/2006        -2760                             All other th...   \n",
       "31/03/2007        -3640                             All other th...   \n",
       "\n",
       "Region                                                   North West  \\\n",
       "12 months ending                                                      \n",
       "30/06/2007        -4480                             All other th...   \n",
       "31/03/2003        -80                              All other the...   \n",
       "31/03/2004        -960                              All other th...   \n",
       "31/03/2005        -1840                             All other th...   \n",
       "31/03/2006        -2720                             All other th...   \n",
       "31/03/2007        -3600                             All other th...   \n",
       "\n",
       "Region                                                   South East  \\\n",
       "12 months ending                                                      \n",
       "30/06/2007        -4740                             All other th...   \n",
       "31/03/2003        -340                             All other the...   \n",
       "31/03/2004        -1220                             All other th...   \n",
       "31/03/2005        -2100                             All other th...   \n",
       "31/03/2006        -2980                             All other th...   \n",
       "31/03/2007        -3860                             All other th...   \n",
       "\n",
       "Region                                                   South West  \\\n",
       "12 months ending                                                      \n",
       "30/06/2007        -4400                             All other th...   \n",
       "31/03/2003        -0                               All other the...   \n",
       "31/03/2004        -880                              All other th...   \n",
       "31/03/2005        -1760                             All other th...   \n",
       "31/03/2006        -2640                             All other th...   \n",
       "31/03/2007        -3520                             All other th...   \n",
       "\n",
       "Region                                                        Wales  \\\n",
       "12 months ending                                                      \n",
       "30/06/2007        -4640                             All other th...   \n",
       "31/03/2003        -240                             All other the...   \n",
       "31/03/2004        -1120                             All other th...   \n",
       "31/03/2005        -2000                             All other th...   \n",
       "31/03/2006        -2880                             All other th...   \n",
       "31/03/2007        -3760                             All other th...   \n",
       "\n",
       "Region                                                West Midlands  \\\n",
       "12 months ending                                                      \n",
       "30/06/2007                                                      NaN   \n",
       "31/03/2003        -680                             All other the...   \n",
       "31/03/2004        -1560                             All other th...   \n",
       "31/03/2005        -2440                             All other th...   \n",
       "31/03/2006        -3320                             All other th...   \n",
       "31/03/2007        -4200                             All other th...   \n",
       "\n",
       "Region                                     Yorkshire and The Humber  \n",
       "12 months ending                                                     \n",
       "30/06/2007        -4780                             All other th...  \n",
       "31/03/2003        -380                             All other the...  \n",
       "31/03/2004        -1260                             All other th...  \n",
       "31/03/2005        -2140                             All other th...  \n",
       "31/03/2006        -3020                             All other th...  \n",
       "31/03/2007        -3900                             All other th...  "
      ]
     },
     "execution_count": 25,
     "metadata": {},
     "output_type": "execute_result"
    }
   ],
   "source": [
    "pv"
   ]
  },
  {
   "cell_type": "code",
   "execution_count": 56,
   "metadata": {},
   "outputs": [],
   "source": [
    "rec.head()\n",
    "rec.rename(columns={\"12 months ending\":\"Tarih\",\"Rolling year total number of offences\":\"Sayi\"},inplace=True)"
   ]
  },
  {
   "cell_type": "code",
   "execution_count": 57,
   "metadata": {},
   "outputs": [],
   "source": [
    "import matplotlib.pyplot as plt"
   ]
  },
  {
   "cell_type": "code",
   "execution_count": 70,
   "metadata": {},
   "outputs": [
    {
     "name": "stderr",
     "output_type": "stream",
     "text": [
      "C:\\Users\\Mustafa\\Anaconda3\\lib\\site-packages\\seaborn\\categorical.py:3666: UserWarning: The `factorplot` function has been renamed to `catplot`. The original name will be removed in a future release. Please update your code. Note that the default `kind` in `factorplot` (`'point'`) has changed `'strip'` in `catplot`.\n",
      "  warnings.warn(msg)\n"
     ]
    },
    {
     "data": {
      "text/plain": [
       "(array([0, 1, 2, 3, 4, 5]), <a list of 6 Text xticklabel objects>)"
      ]
     },
     "execution_count": 70,
     "metadata": {},
     "output_type": "execute_result"
    },
    {
     "data": {
      "image/png": "[encoded data removed]",
      "text/plain": [
       "<Figure size 529.359x360 with 1 Axes>"
      ]
     },
     "metadata": {
      "needs_background": "light"
     },
     "output_type": "display_data"
    }
   ],
   "source": [
    "sns.factorplot(data=rec,x=\"Tarih\",y=\"Sayi\",hue=\"Region\",)\n",
    "plt.xticks(Rotation=90)"
   ]
  },
  {
   "cell_type": "code",
   "execution_count": 73,
   "metadata": {},
   "outputs": [
    {
     "data": {
      "text/plain": [
       "(array([0, 1, 2, 3, 4, 5]), <a list of 6 Text xticklabel objects>)"
      ]
     },
     "execution_count": 73,
     "metadata": {},
     "output_type": "execute_result"
    },
    {
     "data": {
      "image/png": "[encoded data removed]",
      "text/plain": [
       "<Figure size 432x288 with 1 Axes>"
      ]
     },
     "metadata": {
      "needs_background": "light"
     },
     "output_type": "display_data"
    }
   ],
   "source": [
    "sns.barplot(data=rec,x=\"Tarih\",y=\"Sayi\",hue=\"Region\")\n",
    "plt.xticks(Rotation=90)"
   ]
  },
  {
   "cell_type": "code",
   "execution_count": 79,
   "metadata": {},
   "outputs": [
    {
     "data": {
      "text/html": [
       "<div>\n",
       "<style scoped>\n",
       "    .dataframe tbody tr th:only-of-type {\n",
       "        vertical-align: middle;\n",
       "    }\n",
       "\n",
       "    .dataframe tbody tr th {\n",
       "        vertical-align: top;\n",
       "    }\n",
       "\n",
       "    .dataframe thead th {\n",
       "        text-align: right;\n",
       "    }\n",
       "</style>\n",
       "<table border=\"1\" class=\"dataframe\">\n",
       "  <thead>\n",
       "    <tr style=\"text-align: right;\">\n",
       "      <th>Region</th>\n",
       "      <th>British Transport Police</th>\n",
       "      <th>East</th>\n",
       "      <th>East Midlands</th>\n",
       "      <th>London</th>\n",
       "      <th>North East</th>\n",
       "      <th>North West</th>\n",
       "      <th>South East</th>\n",
       "      <th>South West</th>\n",
       "      <th>Wales</th>\n",
       "      <th>West Midlands</th>\n",
       "      <th>Yorkshire and The Humber</th>\n",
       "    </tr>\n",
       "    <tr>\n",
       "      <th>12 months ending</th>\n",
       "      <th></th>\n",
       "      <th></th>\n",
       "      <th></th>\n",
       "      <th></th>\n",
       "      <th></th>\n",
       "      <th></th>\n",
       "      <th></th>\n",
       "      <th></th>\n",
       "      <th></th>\n",
       "      <th></th>\n",
       "      <th></th>\n",
       "    </tr>\n",
       "  </thead>\n",
       "  <tbody>\n",
       "    <tr>\n",
       "      <th>30/06/2007</th>\n",
       "      <td>-4440                             All other th...</td>\n",
       "      <td>-4420                             All other th...</td>\n",
       "      <td>-4560                             All other th...</td>\n",
       "      <td>-4500                             All other th...</td>\n",
       "      <td>-4520                             All other th...</td>\n",
       "      <td>-4480                             All other th...</td>\n",
       "      <td>-4740                             All other th...</td>\n",
       "      <td>-4400                             All other th...</td>\n",
       "      <td>-4640                             All other th...</td>\n",
       "      <td>NaN</td>\n",
       "      <td>-4780                             All other th...</td>\n",
       "    </tr>\n",
       "    <tr>\n",
       "      <th>31/03/2003</th>\n",
       "      <td>-40                             All other thef...</td>\n",
       "      <td>-20                              All other the...</td>\n",
       "      <td>-160                             All other the...</td>\n",
       "      <td>-100                             All other the...</td>\n",
       "      <td>-120                             All other the...</td>\n",
       "      <td>-80                              All other the...</td>\n",
       "      <td>-340                             All other the...</td>\n",
       "      <td>-0                               All other the...</td>\n",
       "      <td>-240                             All other the...</td>\n",
       "      <td>-680                             All other the...</td>\n",
       "      <td>-380                             All other the...</td>\n",
       "    </tr>\n",
       "    <tr>\n",
       "      <th>31/03/2004</th>\n",
       "      <td>-920                             All other the...</td>\n",
       "      <td>-900                              All other th...</td>\n",
       "      <td>-1040                             All other th...</td>\n",
       "      <td>-980                              All other th...</td>\n",
       "      <td>-1000                             All other th...</td>\n",
       "      <td>-960                              All other th...</td>\n",
       "      <td>-1220                             All other th...</td>\n",
       "      <td>-880                              All other th...</td>\n",
       "      <td>-1120                             All other th...</td>\n",
       "      <td>-1560                             All other th...</td>\n",
       "      <td>-1260                             All other th...</td>\n",
       "    </tr>\n",
       "    <tr>\n",
       "      <th>31/03/2005</th>\n",
       "      <td>-1800                             All other th...</td>\n",
       "      <td>-1780                             All other th...</td>\n",
       "      <td>-1920                             All other th...</td>\n",
       "      <td>-1860                             All other th...</td>\n",
       "      <td>-1880                             All other th...</td>\n",
       "      <td>-1840                             All other th...</td>\n",
       "      <td>-2100                             All other th...</td>\n",
       "      <td>-1760                             All other th...</td>\n",
       "      <td>-2000                             All other th...</td>\n",
       "      <td>-2440                             All other th...</td>\n",
       "      <td>-2140                             All other th...</td>\n",
       "    </tr>\n",
       "    <tr>\n",
       "      <th>31/03/2006</th>\n",
       "      <td>-2680                             All other th...</td>\n",
       "      <td>-2660                             All other th...</td>\n",
       "      <td>-2800                             All other th...</td>\n",
       "      <td>-2740                             All other th...</td>\n",
       "      <td>-2760                             All other th...</td>\n",
       "      <td>-2720                             All other th...</td>\n",
       "      <td>-2980                             All other th...</td>\n",
       "      <td>-2640                             All other th...</td>\n",
       "      <td>-2880                             All other th...</td>\n",
       "      <td>-3320                             All other th...</td>\n",
       "      <td>-3020                             All other th...</td>\n",
       "    </tr>\n",
       "    <tr>\n",
       "      <th>31/03/2007</th>\n",
       "      <td>-3560                             All other th...</td>\n",
       "      <td>-3540                             All other th...</td>\n",
       "      <td>-3680                             All other th...</td>\n",
       "      <td>-3620                             All other th...</td>\n",
       "      <td>-3640                             All other th...</td>\n",
       "      <td>-3600                             All other th...</td>\n",
       "      <td>-3860                             All other th...</td>\n",
       "      <td>-3520                             All other th...</td>\n",
       "      <td>-3760                             All other th...</td>\n",
       "      <td>-4200                             All other th...</td>\n",
       "      <td>-3900                             All other th...</td>\n",
       "    </tr>\n",
       "  </tbody>\n",
       "</table>\n",
       "</div>"
      ],
      "text/plain": [
       "Region                                     British Transport Police  \\\n",
       "12 months ending                                                      \n",
       "30/06/2007        -4440                             All other th...   \n",
       "31/03/2003        -40                             All other thef...   \n",
       "31/03/2004        -920                             All other the...   \n",
       "31/03/2005        -1800                             All other th...   \n",
       "31/03/2006        -2680                             All other th...   \n",
       "31/03/2007        -3560                             All other th...   \n",
       "\n",
       "Region                                                         East  \\\n",
       "12 months ending                                                      \n",
       "30/06/2007        -4420                             All other th...   \n",
       "31/03/2003        -20                              All other the...   \n",
       "31/03/2004        -900                              All other th...   \n",
       "31/03/2005        -1780                             All other th...   \n",
       "31/03/2006        -2660                             All other th...   \n",
       "31/03/2007        -3540                             All other th...   \n",
       "\n",
       "Region                                                East Midlands  \\\n",
       "12 months ending                                                      \n",
       "30/06/2007        -4560                             All other th...   \n",
       "31/03/2003        -160                             All other the...   \n",
       "31/03/2004        -1040                             All other th...   \n",
       "31/03/2005        -1920                             All other th...   \n",
       "31/03/2006        -2800                             All other th...   \n",
       "31/03/2007        -3680                             All other th...   \n",
       "\n",
       "Region                                                       London  \\\n",
       "12 months ending                                                      \n",
       "30/06/2007        -4500                             All other th...   \n",
       "31/03/2003        -100                             All other the...   \n",
       "31/03/2004        -980                              All other th...   \n",
       "31/03/2005        -1860                             All other th...   \n",
       "31/03/2006        -2740                             All other th...   \n",
       "31/03/2007        -3620                             All other th...   \n",
       "\n",
       "Region                                                   North East  \\\n",
       "12 months ending                                                      \n",
       "30/06/2007        -4520                             All other th...   \n",
       "31/03/2003        -120                             All other the...   \n",
       "31/03/2004        -1000                             All other th...   \n",
       "31/03/2005        -1880                             All other th...   \n",
       "31/03/2006        -2760                             All other th...   \n",
       "31/03/2007        -3640                             All other th...   \n",
       "\n",
       "Region                                                   North West  \\\n",
       "12 months ending                                                      \n",
       "30/06/2007        -4480                             All other th...   \n",
       "31/03/2003        -80                              All other the...   \n",
       "31/03/2004        -960                              All other th...   \n",
       "31/03/2005        -1840                             All other th...   \n",
       "31/03/2006        -2720                             All other th...   \n",
       "31/03/2007        -3600                             All other th...   \n",
       "\n",
       "Region                                                   South East  \\\n",
       "12 months ending                                                      \n",
       "30/06/2007        -4740                             All other th...   \n",
       "31/03/2003        -340                             All other the...   \n",
       "31/03/2004        -1220                             All other th...   \n",
       "31/03/2005        -2100                             All other th...   \n",
       "31/03/2006        -2980                             All other th...   \n",
       "31/03/2007        -3860                             All other th...   \n",
       "\n",
       "Region                                                   South West  \\\n",
       "12 months ending                                                      \n",
       "30/06/2007        -4400                             All other th...   \n",
       "31/03/2003        -0                               All other the...   \n",
       "31/03/2004        -880                              All other th...   \n",
       "31/03/2005        -1760                             All other th...   \n",
       "31/03/2006        -2640                             All other th...   \n",
       "31/03/2007        -3520                             All other th...   \n",
       "\n",
       "Region                                                        Wales  \\\n",
       "12 months ending                                                      \n",
       "30/06/2007        -4640                             All other th...   \n",
       "31/03/2003        -240                             All other the...   \n",
       "31/03/2004        -1120                             All other th...   \n",
       "31/03/2005        -2000                             All other th...   \n",
       "31/03/2006        -2880                             All other th...   \n",
       "31/03/2007        -3760                             All other th...   \n",
       "\n",
       "Region                                                West Midlands  \\\n",
       "12 months ending                                                      \n",
       "30/06/2007                                                      NaN   \n",
       "31/03/2003        -680                             All other the...   \n",
       "31/03/2004        -1560                             All other th...   \n",
       "31/03/2005        -2440                             All other th...   \n",
       "31/03/2006        -3320                             All other th...   \n",
       "31/03/2007        -4200                             All other th...   \n",
       "\n",
       "Region                                     Yorkshire and The Humber  \n",
       "12 months ending                                                     \n",
       "30/06/2007        -4780                             All other th...  \n",
       "31/03/2003        -380                             All other the...  \n",
       "31/03/2004        -1260                             All other th...  \n",
       "31/03/2005        -2140                             All other th...  \n",
       "31/03/2006        -3020                             All other th...  \n",
       "31/03/2007        -3900                             All other th...  "
      ]
     },
     "execution_count": 79,
     "metadata": {},
     "output_type": "execute_result"
    }
   ],
   "source": [
    "pv"
   ]
  },
  {
   "cell_type": "code",
   "execution_count": 3,
   "metadata": {},
   "outputs": [],
   "source": [
    "import numpy as np"
   ]
  },
  {
   "cell_type": "code",
   "execution_count": 4,
   "metadata": {},
   "outputs": [],
   "source": [
    "anakitle=np.random.randint(0,95,10000)"
   ]
  },
  {
   "cell_type": "code",
   "execution_count": 5,
   "metadata": {},
   "outputs": [
    {
     "data": {
      "text/plain": [
       "array([44, 68, 11, ..., 52, 24, 54])"
      ]
     },
     "execution_count": 5,
     "metadata": {},
     "output_type": "execute_result"
    }
   ],
   "source": [
    "anakitle"
   ]
  },
  {
   "cell_type": "code",
   "execution_count": 88,
   "metadata": {},
   "outputs": [
    {
     "data": {
      "text/plain": [
       "46.9522"
      ]
     },
     "execution_count": 88,
     "metadata": {},
     "output_type": "execute_result"
    }
   ],
   "source": [
    "anakitle.mean()"
   ]
  },
  {
   "cell_type": "code",
   "execution_count": 90,
   "metadata": {},
   "outputs": [
    {
     "data": {
      "text/plain": [
       "46.725"
      ]
     },
     "execution_count": 90,
     "metadata": {},
     "output_type": "execute_result"
    }
   ],
   "source": [
    "ornkelem=np.random.choice(a=anakitle,size=1000)\n",
    "ox=ornkelem.mean()\n",
    "ox"
   ]
  },
  {
   "cell_type": "code",
   "execution_count": 109,
   "metadata": {},
   "outputs": [
    {
     "name": "stdout",
     "output_type": "stream",
     "text": [
      "44.51058532790433 ile 48.93941467209567\n"
     ]
    }
   ],
   "source": [
    "confidence_=2.56*(anakitle.std()/np.sqrt(1000))\n",
    "print(\"{0} ile {1}\".format(ox-confidence_,ox+confidence_))"
   ]
  },
  {
   "cell_type": "code",
   "execution_count": 92,
   "metadata": {},
   "outputs": [],
   "source": [
    "import scipy.stats as st"
   ]
  },
  {
   "cell_type": "code",
   "execution_count": 108,
   "metadata": {},
   "outputs": [
    {
     "data": {
      "text/plain": [
       "(44.497940423406334, 48.95205957659367)"
      ]
     },
     "execution_count": 108,
     "metadata": {},
     "output_type": "execute_result"
    }
   ],
   "source": [
    "st.t.interval(alpha=0.99,df=len(ornkelem)-1,loc=ornkelem.mean(),scale=st.sem(ornkelem))"
   ]
  },
  {
   "cell_type": "code",
   "execution_count": 94,
   "metadata": {},
   "outputs": [],
   "source": [
    "import statsmodels.stats.api as sms"
   ]
  },
  {
   "cell_type": "code",
   "execution_count": 106,
   "metadata": {},
   "outputs": [
    {
     "data": {
      "text/plain": [
       "(45.031602722525896, 48.41839727747411)"
      ]
     },
     "execution_count": 106,
     "metadata": {},
     "output_type": "execute_result"
    }
   ],
   "source": [
    "sms.DescrStatsW(ornkelem).tconfint_mean()"
   ]
  },
  {
   "cell_type": "code",
   "execution_count": null,
   "metadata": {},
   "outputs": [],
   "source": []
  }
 ],
 "metadata": {
  "kernelspec": {
   "display_name": "Python 3",
   "language": "python",
   "name": "python3"
  },
  "language_info": {
   "codemirror_mode": {
    "name": "ipython",
    "version": 3
   },
   "file_extension": ".py",
   "mimetype": "text/x-python",
   "name": "python",
   "nbconvert_exporter": "python",
   "pygments_lexer": "ipython3",
   "version": "3.7.3"
  }
 },
 "nbformat": 4,
 "nbformat_minor": 2
}
