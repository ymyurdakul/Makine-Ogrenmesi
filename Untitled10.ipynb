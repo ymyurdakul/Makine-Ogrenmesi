{
 "cells": [
  {
   "cell_type": "code",
   "execution_count": 10,
   "metadata": {},
   "outputs": [
    {
     "name": "stdout",
     "output_type": "stream",
     "text": [
      "<__main__.EngAndArt object at 0x00000295905125F8>\n",
      "Müzisyen caliyor\n",
      "mhendis dediğin iyi hesap yapar\n"
     ]
    }
   ],
   "source": [
    "class Mühendis:\n",
    "    def __init__(self,ad):\n",
    "        self.ad=ad\n",
    "    def hesap_yap(self):\n",
    "        print(\"mhendis dediğin iyi hesap yapar\")\n",
    "class Müzisyen:\n",
    "    \n",
    "    def __init__(self,enstruman):\n",
    "        self.enstruman=enstruman\n",
    "        \n",
    "        \n",
    "    def cal(self):\n",
    "        print(\"Müzisyen caliyor\")\n",
    "        pass\n",
    "class EngAndArt(Mühendis,Müzisyen):\n",
    "    def __init__(self,ad,enstruman):\n",
    "        Müzisyen.__init__(self,enstruman)\n",
    "        Mühendis.__init__(self,ad)\n",
    "  \n",
    "        \n",
    "ax=EngAndArt(\"ali\",\"spiyano\")\n",
    "print(ax)\n",
    "ax.cal()\n",
    "ax.hesap_yap()"
   ]
  },
  {
   "cell_type": "code",
   "execution_count": 46,
   "metadata": {},
   "outputs": [
    {
     "data": {
      "text/plain": [
       "[1, 2, 5]"
      ]
     },
     "execution_count": 46,
     "metadata": {},
     "output_type": "execute_result"
    }
   ],
   "source": [
    "\n",
    "import numpy as np \n",
    "x=[1,2,5]\n",
    "np.\n",
    "x"
   ]
  }
 ],
 "metadata": {
  "kernelspec": {
   "display_name": "Python 3",
   "language": "python",
   "name": "python3"
  },
  "language_info": {
   "codemirror_mode": {
    "name": "ipython",
    "version": 3
   },
   "file_extension": ".py",
   "mimetype": "text/x-python",
   "name": "python",
   "nbconvert_exporter": "python",
   "pygments_lexer": "ipython3",
   "version": "3.7.3"
  }
 },
 "nbformat": 4,
 "nbformat_minor": 2
}
