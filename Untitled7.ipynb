{
 "cells": [
  {
   "cell_type": "code",
   "execution_count": 6,
   "metadata": {},
   "outputs": [
    {
     "name": "stdout",
     "output_type": "stream",
     "text": [
      "4  \n",
      "4  \n",
      "4  \n",
      "4  \n",
      "\n",
      "4  \n",
      "4  \n",
      "4  \n",
      "4  \n",
      "\n",
      "4  \n",
      "4  \n",
      "4  \n",
      "4  \n",
      "\n",
      "4  \n",
      "4  \n",
      "4  \n",
      "4  \n",
      "\n"
     ]
    }
   ],
   "source": [
    "global N\n",
    "N=4\n",
    "\n",
    "def printSolution(board):\n",
    "    for i in range(N):\n",
    "        for j in range(N):\n",
    "            print(board[i][j],\" \")\n",
    "        print()\n",
    "            \n",
    "printSolution([[4,4,4,4],[4,4,4,4],[4,4,4,4],[4,4,4,4]])\n",
    "               "
   ]
  }
 ],
 "metadata": {
  "kernelspec": {
   "display_name": "Python 3",
   "language": "python",
   "name": "python3"
  },
  "language_info": {
   "codemirror_mode": {
    "name": "ipython",
    "version": 3
   },
   "file_extension": ".py",
   "mimetype": "text/x-python",
   "name": "python",
   "nbconvert_exporter": "python",
   "pygments_lexer": "ipython3",
   "version": "3.7.3"
  }
 },
 "nbformat": 4,
 "nbformat_minor": 2
}
