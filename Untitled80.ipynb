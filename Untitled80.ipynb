{
 "cells": [
  {
   "cell_type": "code",
   "execution_count": 1,
   "metadata": {},
   "outputs": [],
   "source": [
    "import matplotlib.pyplot as plt  #sets up plotting under plt\n",
    "import seaborn as sns           #sets up styles and gives us more plotting options\n",
    "import pandas as pd             #lets us handle data as dataframes\n",
    "%matplotlib inline"
   ]
  },
  {
   "cell_type": "code",
   "execution_count": 2,
   "metadata": {},
   "outputs": [],
   "source": [
    "def chart_creator(x,y,title):\n",
    "    # Create a list of 100 Normal RVs\n",
    "    data = pd.DataFrame(zip(x,y))\n",
    "    data.columns = ['x','y']\n",
    "    # We dont Probably need the Gridlines. Do we? If yes comment this line\n",
    "    sns.set(style=\"ticks\")\n",
    "    g = sns.regplot(x='x', y='y', data=data, ci = False,\n",
    "        scatter_kws={\"color\":\"darkred\",\"alpha\":0.3,\"s\":90},\n",
    "        line_kws={\"color\":\"g\",\"alpha\":0.5,\"lw\":0},marker=\"x\")\n",
    "    sns.despine()\n",
    "    g.figure.set_size_inches(12,8)\n",
    "    g.axes.set_title(title, fontsize=34,color=\"r\",alpha=0.5)\n",
    "    g.set_xlabel(\"k\",size = 67,color=\"r\",alpha=0.5)\n",
    "    g.set_ylabel(\"pmf\",size = 67,color=\"r\",alpha=0.5)\n",
    "    g.tick_params(labelsize=14,labelcolor=\"black\")"
   ]
  },
  {
   "cell_type": "code",
   "execution_count": 3,
   "metadata": {},
   "outputs": [
    {
     "data": {
      "text/plain": [
       "3.735999999999994e-07"
      ]
     },
     "execution_count": 3,
     "metadata": {},
     "output_type": "execute_result"
    }
   ],
   "source": [
    "from scipy.stats import binom\n",
    "#binom.pmf(n=10,k=2,p=0.9)\n",
    "binom.cdf(n=10,k=2,p=0.9)"
   ]
  },
  {
   "cell_type": "code",
   "execution_count": 4,
   "metadata": {},
   "outputs": [],
   "source": [
    "from scipy import stats"
   ]
  },
  {
   "cell_type": "code",
   "execution_count": 37,
   "metadata": {},
   "outputs": [
    {
     "data": {
      "text/plain": [
       "0.624"
      ]
     },
     "execution_count": 37,
     "metadata": {},
     "output_type": "execute_result"
    }
   ],
   "source": [
    "import numpy as np\n",
    "import math\n",
    "def round_up(n, decimals=0):\n",
    "    multiplier = 10 ** decimals\n",
    "    return math.ceil(n * multiplier) / multiplier\n",
    "t=stats.binom.cdf(n=10,k=5,p=0.5)    \n",
    "round_up(t,3)"
   ]
  }
 ],
 "metadata": {
  "kernelspec": {
   "display_name": "Python 3",
   "language": "python",
   "name": "python3"
  },
  "language_info": {
   "codemirror_mode": {
    "name": "ipython",
    "version": 3
   },
   "file_extension": ".py",
   "mimetype": "text/x-python",
   "name": "python",
   "nbconvert_exporter": "python",
   "pygments_lexer": "ipython3",
   "version": "3.7.3"
  }
 },
 "nbformat": 4,
 "nbformat_minor": 2
}
