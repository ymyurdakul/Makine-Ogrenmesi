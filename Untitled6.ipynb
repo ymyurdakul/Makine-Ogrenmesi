{
 "cells": [
  {
   "cell_type": "markdown",
   "metadata": {},
   "source": [
    "# Crossover Point Selection"
   ]
  },
  {
   "cell_type": "code",
   "execution_count": 57,
   "metadata": {},
   "outputs": [
    {
     "name": "stdout",
     "output_type": "stream",
     "text": [
      "Secilen Nokta =1 \n",
      " [9, 4, 5, 6] [1, 10, 8, 7] \n",
      "Secilen Nokta =1 \n",
      " [9, 4, 5, 6] [1, 10, 8, 7] \n",
      "Secilen Nokta =1 \n",
      " [9, 4, 5, 6] [1, 10, 8, 7] \n",
      "Secilen Nokta =1 \n",
      " [9, 4, 5, 6] [1, 10, 8, 7] \n",
      "Secilen Nokta =4 \n",
      " [9, 10, 8, 7] [1, 4, 5, 6] \n",
      "Secilen Nokta =2 \n",
      " [9, 10, 5, 6] [1, 4, 8, 7] \n",
      "Secilen Nokta =3 \n",
      " [9, 10, 8, 6] [1, 4, 5, 7] \n",
      "Secilen Nokta =2 \n",
      " [9, 10, 5, 6] [1, 4, 8, 7] \n",
      "Secilen Nokta =1 \n",
      " [9, 4, 5, 6] [1, 10, 8, 7] \n",
      "Secilen Nokta =1 \n",
      " [9, 4, 5, 6] [1, 10, 8, 7] \n",
      "Secilen Nokta =1 \n",
      " [9, 4, 5, 6] [1, 10, 8, 7] \n",
      "Secilen Nokta =2 \n",
      " [9, 10, 5, 6] [1, 4, 8, 7] \n",
      "Secilen Nokta =3 \n",
      " [9, 10, 8, 6] [1, 4, 5, 7] \n",
      "Secilen Nokta =2 \n",
      " [9, 10, 5, 6] [1, 4, 8, 7] \n"
     ]
    }
   ],
   "source": [
    "import random as rnd\n",
    "kro1=[1,4,5,6]\n",
    "kro2=[9,10,8,7]\n",
    "#9,10,5,6\n",
    "#1,4,8,7\n",
    "for i in range(1,15):\n",
    "    point=rnd.randint(1,len(kro1))\n",
    "    print(\"Secilen Nokta ={} \".format(point))\n",
    "    child1=kro1.copy()\n",
    "    child2=kro2.copy()\n",
    "    child1[0:point]=kro2[0:point]\n",
    "    child2[0:point]=kro1[0:point]\n",
    "\n",
    "    print(\" {} {} \".format(child1,child2))\n",
    "\n",
    "    "
   ]
  },
  {
   "cell_type": "code",
   "execution_count": 21,
   "metadata": {},
   "outputs": [
    {
     "name": "stdout",
     "output_type": "stream",
     "text": [
      "ad : [0, 0, 0, 0] \n",
      "soyad : (7, 8, 9) \n"
     ]
    }
   ],
   "source": [
    "d={\"ad\":[0,0,0,0],\"soyad\":(7,8,9)}\n",
    "d\n",
    "for key,val in d.items():\n",
    "    print(\"{} : {} \".format(key,val))"
   ]
  },
  {
   "cell_type": "code",
   "execution_count": 60,
   "metadata": {},
   "outputs": [
    {
     "data": {
      "text/plain": [
       "134217728"
      ]
     },
     "execution_count": 60,
     "metadata": {},
     "output_type": "execute_result"
    }
   ],
   "source": [
    "def üstal(x=0,y=1):\n",
    "    return x**y\n",
    "üstal(8,9)"
   ]
  },
  {
   "cell_type": "code",
   "execution_count": 61,
   "metadata": {},
   "outputs": [],
   "source": [
    "def summarize(liste=[]):\n",
    "    if(len(liste)>0):\n",
    "        return sum(liste)\n",
    "    else:\n",
    "        return 0"
   ]
  },
  {
   "cell_type": "code",
   "execution_count": 77,
   "metadata": {},
   "outputs": [],
   "source": [
    "summarize([4,5,8])\n",
    "liste=[]\n",
    "for i in range(1,100):\n",
    "    liste.append(i)  \n",
    "len(liste)\n",
    "liste=[\"ali\",\"veli\"]\n"
   ]
  },
  {
   "cell_type": "code",
   "execution_count": 94,
   "metadata": {},
   "outputs": [
    {
     "name": "stdout",
     "output_type": "stream",
     "text": [
      "25\n",
      "125\n",
      "9094947017729282379150390625\n"
     ]
    }
   ],
   "source": [
    "def al(x=1):\n",
    "    return (x**2,x**3,x**40)\n",
    "\n",
    "kare,kup,dort=al(5)\n",
    "print(kare)\n",
    "print(kup)\n",
    "print(dort)\n",
    "\n"
   ]
  }
 ],
 "metadata": {
  "kernelspec": {
   "display_name": "Python 3",
   "language": "python",
   "name": "python3"
  },
  "language_info": {
   "codemirror_mode": {
    "name": "ipython",
    "version": 3
   },
   "file_extension": ".py",
   "mimetype": "text/x-python",
   "name": "python",
   "nbconvert_exporter": "python",
   "pygments_lexer": "ipython3",
   "version": "3.7.3"
  }
 },
 "nbformat": 4,
 "nbformat_minor": 2
}
