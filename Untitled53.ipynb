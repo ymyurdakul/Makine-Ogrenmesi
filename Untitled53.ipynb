{
 "cells": [
  {
   "cell_type": "code",
   "execution_count": null,
   "metadata": {},
   "outputs": [],
   "source": [
    "import pandas as pd\n",
    "import numpy as np\n",
    "alfa=pd.Series(index=[\"Mustafa\",\"Mahmut\",\"Cem\",\"Derya\"],data=[1456,5264,8957,1054])\n",
    "alfa.index\n",
    "beta=pd.Series({\"Ahmet\":1234,\"Mehmet\":3546,\"Veli\":8778})\n",
    "beta[\"Ahmet\"]\n",
    "beta\n",
    "h={\"ali\":123,\"veli\":456}\n",
    "#d=pd.DataFrame(index=h,columns=[\"İsim Tablosu\"],values=h)\n",
    "a=pd.Index([0,1,2,7,9])\n",
    "b=pd.Index([2,3,4,5,7])\n",
    "a&b\n",
    "a|b\n",
    "\"Ahmet\" in beta\n",
    "beta.keys\n",
    "beta.items\n",
    "beta[\"ali\"]=45631\n",
    "beta[\"ali\"]\n",
    "beta[\"Ahmet\":\"ali\"]\n",
    "beta[beta>2000]\n",
    "beta[[i for i in range(2)]]\n",
    "x=beta[0:3]\n",
    "type(x)\n",
    "beta\n",
    "beta.iloc[0:]\n",
    "\n",
    "area=pd.Series({\"Ankara\":1000,\"İstanbul\":5200})\n",
    "pop=pd.Series({\"Ankara\":80,\"İstanbul\":70})\n",
    "ax=pd.DataFrame({\"area\":area,\"pop\":pop})\n",
    "ax\n",
    "ax[\"density\"]=ax[\"area\"]/ax[\"pop\"]\n",
    "ax[\"Px Score\"]=ax.eval(\"area + pop + density\")\n",
    "ax.T\n",
    "ax=pd.DataFrame(columns=[\"a\",\"b\",\"c\"],data=[[\"0\",\"0\",\"0\"],[1,1,1],[2,2,2]])\n",
    "ax=ax.astype(int)\n",
    "#ax.info()\n",
    "#ax.values[0]\n",
    "import seaborn as sns\n",
    "#sns.get_dataset_names()\n",
    "cc=sns.load_dataset(\"car_crashes\")\n",
    "cc.loc[1:10,[\"total\",\"speeding\",\"alcohol\"]]\n",
    "\n",
    "bx=pd.Series(data=[0,np.NaN,2])\n",
    "bx\n",
    "bx[bx.isnull()]\n",
    "bx[bx.notnull()]\n",
    "bx\n",
    "vx=bx.dropna()\n",
    "vx\n",
    "ax=pd.Series([0,1,np.NaN,2])\n",
    "ax.fillna(method=\"ffill\")\n",
    "cc.stack()\n",
    "cc[cc[\"speeding\"]>6][\"speeding\"].sum()\n",
    "cc[[\"speeding\",\"not_distracted\"]]\n",
    "\n",
    "dd=pd.DataFrame(columns=[\"Nufus\",\"Kürt\"],data=[[\"1500\",\"700\"],[\"2500\",\"250\"]])\n",
    "dd[\"Türk\"]=dd.eval(\"Nufus - Kürt\")\n",
    "dd"
   ]
  },
  {
   "cell_type": "code",
   "execution_count": null,
   "metadata": {},
   "outputs": [],
   "source": [
    "dd=pd.DataFrame(columns=[\"Nufus\",\"Kürt\"],data=[[\"1500\",\"700\"],[\"2500\",\"250\"]])\n",
    "dd[\"Türk\"]=dd.eval(\"Nufus - Kürt\")\n",
    "a=0\n",
    "a"
   ]
  }
 ],
 "metadata": {
  "kernelspec": {
   "display_name": "Python 3",
   "language": "python",
   "name": "python3"
  },
  "language_info": {
   "codemirror_mode": {
    "name": "ipython",
    "version": 3
   },
   "file_extension": ".py",
   "mimetype": "text/x-python",
   "name": "python",
   "nbconvert_exporter": "python",
   "pygments_lexer": "ipython3",
   "version": "3.7.3"
  }
 },
 "nbformat": 4,
 "nbformat_minor": 2
}
