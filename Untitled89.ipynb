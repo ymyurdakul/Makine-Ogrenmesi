{
 "cells": [
  {
   "cell_type": "code",
   "execution_count": 8,
   "metadata": {},
   "outputs": [],
   "source": [
    "import pandas as pd\n",
    "import seaborn as sns\n",
    "import numpy as np"
   ]
  },
  {
   "cell_type": "code",
   "execution_count": 9,
   "metadata": {},
   "outputs": [],
   "source": [
    "df=sns.load_dataset(\"diamonds\")"
   ]
  },
  {
   "cell_type": "code",
   "execution_count": 10,
   "metadata": {},
   "outputs": [
    {
     "data": {
      "text/html": [
       "<div>\n",
       "<style scoped>\n",
       "    .dataframe tbody tr th:only-of-type {\n",
       "        vertical-align: middle;\n",
       "    }\n",
       "\n",
       "    .dataframe tbody tr th {\n",
       "        vertical-align: top;\n",
       "    }\n",
       "\n",
       "    .dataframe thead th {\n",
       "        text-align: right;\n",
       "    }\n",
       "</style>\n",
       "<table border=\"1\" class=\"dataframe\">\n",
       "  <thead>\n",
       "    <tr style=\"text-align: right;\">\n",
       "      <th></th>\n",
       "      <th>carat</th>\n",
       "      <th>cut</th>\n",
       "      <th>color</th>\n",
       "      <th>clarity</th>\n",
       "      <th>depth</th>\n",
       "      <th>table</th>\n",
       "      <th>price</th>\n",
       "      <th>x</th>\n",
       "      <th>y</th>\n",
       "      <th>z</th>\n",
       "    </tr>\n",
       "  </thead>\n",
       "  <tbody>\n",
       "    <tr>\n",
       "      <th>0</th>\n",
       "      <td>0.23</td>\n",
       "      <td>Ideal</td>\n",
       "      <td>E</td>\n",
       "      <td>SI2</td>\n",
       "      <td>61.5</td>\n",
       "      <td>55.0</td>\n",
       "      <td>326</td>\n",
       "      <td>3.95</td>\n",
       "      <td>3.98</td>\n",
       "      <td>2.43</td>\n",
       "    </tr>\n",
       "    <tr>\n",
       "      <th>1</th>\n",
       "      <td>0.21</td>\n",
       "      <td>Premium</td>\n",
       "      <td>E</td>\n",
       "      <td>SI1</td>\n",
       "      <td>59.8</td>\n",
       "      <td>61.0</td>\n",
       "      <td>326</td>\n",
       "      <td>3.89</td>\n",
       "      <td>3.84</td>\n",
       "      <td>2.31</td>\n",
       "    </tr>\n",
       "    <tr>\n",
       "      <th>2</th>\n",
       "      <td>0.23</td>\n",
       "      <td>Good</td>\n",
       "      <td>E</td>\n",
       "      <td>VS1</td>\n",
       "      <td>56.9</td>\n",
       "      <td>65.0</td>\n",
       "      <td>327</td>\n",
       "      <td>4.05</td>\n",
       "      <td>4.07</td>\n",
       "      <td>2.31</td>\n",
       "    </tr>\n",
       "    <tr>\n",
       "      <th>3</th>\n",
       "      <td>0.29</td>\n",
       "      <td>Premium</td>\n",
       "      <td>I</td>\n",
       "      <td>VS2</td>\n",
       "      <td>62.4</td>\n",
       "      <td>58.0</td>\n",
       "      <td>334</td>\n",
       "      <td>4.20</td>\n",
       "      <td>4.23</td>\n",
       "      <td>2.63</td>\n",
       "    </tr>\n",
       "    <tr>\n",
       "      <th>4</th>\n",
       "      <td>0.31</td>\n",
       "      <td>Good</td>\n",
       "      <td>J</td>\n",
       "      <td>SI2</td>\n",
       "      <td>63.3</td>\n",
       "      <td>58.0</td>\n",
       "      <td>335</td>\n",
       "      <td>4.34</td>\n",
       "      <td>4.35</td>\n",
       "      <td>2.75</td>\n",
       "    </tr>\n",
       "  </tbody>\n",
       "</table>\n",
       "</div>"
      ],
      "text/plain": [
       "   carat      cut color clarity  depth  table  price     x     y     z\n",
       "0   0.23    Ideal     E     SI2   61.5   55.0    326  3.95  3.98  2.43\n",
       "1   0.21  Premium     E     SI1   59.8   61.0    326  3.89  3.84  2.31\n",
       "2   0.23     Good     E     VS1   56.9   65.0    327  4.05  4.07  2.31\n",
       "3   0.29  Premium     I     VS2   62.4   58.0    334  4.20  4.23  2.63\n",
       "4   0.31     Good     J     SI2   63.3   58.0    335  4.34  4.35  2.75"
      ]
     },
     "execution_count": 10,
     "metadata": {},
     "output_type": "execute_result"
    }
   ],
   "source": [
    "df.head()"
   ]
  },
  {
   "cell_type": "code",
   "execution_count": 11,
   "metadata": {},
   "outputs": [
    {
     "data": {
      "text/plain": [
       "<matplotlib.axes._subplots.AxesSubplot at 0x25b43129160>"
      ]
     },
     "execution_count": 11,
     "metadata": {},
     "output_type": "execute_result"
    },
    {
     "data": {
      "image/png": "[encoded data removed]",
      "text/plain": [
       "<Figure size 432x288 with 1 Axes>"
      ]
     },
     "metadata": {
      "needs_background": "light"
     },
     "output_type": "display_data"
    }
   ],
   "source": [
    "sns.boxplot(df.table)"
   ]
  },
  {
   "cell_type": "code",
   "execution_count": 15,
   "metadata": {},
   "outputs": [
    {
     "name": "stdout",
     "output_type": "stream",
     "text": [
      "51.5 63.5\n"
     ]
    }
   ],
   "source": [
    "Q1=df.table.quantile(0.25)\n",
    "Q3=df.table.quantile(0.75)\n",
    "IQR=Q3-Q1\n",
    "alt_sinir=Q1-1.5*IQR\n",
    "ust_sinir=Q3+1.5*IQR\n",
    "print(alt_sinir,ust_sinir)"
   ]
  },
  {
   "cell_type": "code",
   "execution_count": 17,
   "metadata": {},
   "outputs": [],
   "source": [
    "df_table=df.table.copy()"
   ]
  },
  {
   "cell_type": "code",
   "execution_count": 19,
   "metadata": {},
   "outputs": [
    {
     "data": {
      "text/plain": [
       "2        65.0\n",
       "91       69.0\n",
       "145      64.0\n",
       "219      64.0\n",
       "227      67.0\n",
       "239      64.0\n",
       "296      66.0\n",
       "314      70.0\n",
       "356      66.0\n",
       "359      68.0\n",
       "461      64.0\n",
       "504      64.0\n",
       "526      67.0\n",
       "712      67.0\n",
       "771      65.0\n",
       "777      70.0\n",
       "868      64.0\n",
       "919      69.0\n",
       "929      65.0\n",
       "932      64.0\n",
       "1140     66.0\n",
       "1196     64.0\n",
       "1227     67.0\n",
       "1275     67.0\n",
       "1319     66.0\n",
       "1422     64.0\n",
       "1493     65.0\n",
       "1498     66.0\n",
       "1515     51.0\n",
       "1524     67.0\n",
       "         ... \n",
       "52136    64.0\n",
       "52166    64.0\n",
       "52167    65.0\n",
       "52176    64.0\n",
       "52230    66.0\n",
       "52282    65.0\n",
       "52393    70.0\n",
       "52474    69.0\n",
       "52583    67.0\n",
       "52675    67.0\n",
       "52731    64.0\n",
       "52748    64.0\n",
       "52825    64.0\n",
       "52860    73.0\n",
       "52861    73.0\n",
       "52865    66.0\n",
       "52869    64.0\n",
       "52916    64.0\n",
       "53064    68.0\n",
       "53154    66.0\n",
       "53226    65.0\n",
       "53503    65.0\n",
       "53542    67.0\n",
       "53577    64.0\n",
       "53660    67.0\n",
       "53695    65.0\n",
       "53697    65.0\n",
       "53756    64.0\n",
       "53757    64.0\n",
       "53785    65.0\n",
       "Name: table, Length: 605, dtype: float64"
      ]
     },
     "execution_count": 19,
     "metadata": {},
     "output_type": "execute_result"
    }
   ],
   "source": [
    "df_table[(df_table<alt_sinir)|(df_table>ust_sinir)]"
   ]
  },
  {
   "cell_type": "code",
   "execution_count": 20,
   "metadata": {},
   "outputs": [
    {
     "data": {
      "text/plain": [
       "<matplotlib.axes._subplots.AxesSubplot at 0x25b447be860>"
      ]
     },
     "execution_count": 20,
     "metadata": {},
     "output_type": "execute_result"
    },
    {
     "data": {
      "image/png": "[encoded data removed]",
      "text/plain": [
       "<Figure size 432x288 with 1 Axes>"
      ]
     },
     "metadata": {
      "needs_background": "light"
     },
     "output_type": "display_data"
    }
   ],
   "source": [
    "sns.boxplot(df_table)"
   ]
  },
  {
   "cell_type": "code",
   "execution_count": 25,
   "metadata": {},
   "outputs": [],
   "source": [
    "temiz_df_table=df_table[~((df_table<alt_sinir)|(df_table>ust_sinir))]"
   ]
  },
  {
   "cell_type": "code",
   "execution_count": 27,
   "metadata": {},
   "outputs": [
    {
     "data": {
      "text/plain": [
       "count    53940.000000\n",
       "mean        57.457184\n",
       "std          2.234491\n",
       "min         43.000000\n",
       "25%         56.000000\n",
       "50%         57.000000\n",
       "75%         59.000000\n",
       "max         95.000000\n",
       "Name: table, dtype: float64"
      ]
     },
     "execution_count": 27,
     "metadata": {},
     "output_type": "execute_result"
    },
    {
     "data": {
      "image/png": "[encoded data removed]",
      "text/plain": [
       "<Figure size 432x288 with 1 Axes>"
      ]
     },
     "metadata": {
      "needs_background": "light"
     },
     "output_type": "display_data"
    }
   ],
   "source": [
    "sns.boxplot(temiz_df_table)\n",
    "df_table.describe()"
   ]
  },
  {
   "cell_type": "code",
   "execution_count": 32,
   "metadata": {},
   "outputs": [],
   "source": [
    "df_table[((df_table<alt_sinir)|(df_table>ust_sinir))]=df_table.std()"
   ]
  },
  {
   "cell_type": "code",
   "execution_count": 33,
   "metadata": {},
   "outputs": [
    {
     "data": {
      "text/plain": [
       "count    53940.000000\n",
       "mean        57.374344\n",
       "std          2.062702\n",
       "min         51.600000\n",
       "25%         56.000000\n",
       "50%         57.000000\n",
       "75%         59.000000\n",
       "max         63.500000\n",
       "Name: table, dtype: float64"
      ]
     },
     "execution_count": 33,
     "metadata": {},
     "output_type": "execute_result"
    }
   ],
   "source": [
    "df_table.describe()"
   ]
  },
  {
   "cell_type": "code",
   "execution_count": 34,
   "metadata": {},
   "outputs": [
    {
     "data": {
      "text/plain": [
       "0        55.0\n",
       "1        61.0\n",
       "2        65.0\n",
       "3        58.0\n",
       "4        58.0\n",
       "5        57.0\n",
       "6        57.0\n",
       "7        55.0\n",
       "8        61.0\n",
       "9        61.0\n",
       "10       55.0\n",
       "11       56.0\n",
       "12       61.0\n",
       "13       54.0\n",
       "14       62.0\n",
       "15       58.0\n",
       "16       54.0\n",
       "17       54.0\n",
       "18       56.0\n",
       "19       59.0\n",
       "20       56.0\n",
       "21       55.0\n",
       "22       57.0\n",
       "23       62.0\n",
       "24       62.0\n",
       "25       58.0\n",
       "26       57.0\n",
       "27       57.0\n",
       "28       61.0\n",
       "29       57.0\n",
       "         ... \n",
       "53910    58.0\n",
       "53911    60.0\n",
       "53912    59.0\n",
       "53913    58.0\n",
       "53914    59.0\n",
       "53915    56.0\n",
       "53916    59.0\n",
       "53917    60.0\n",
       "53918    62.0\n",
       "53919    55.0\n",
       "53920    60.0\n",
       "53921    60.0\n",
       "53922    59.0\n",
       "53923    56.0\n",
       "53924    55.0\n",
       "53925    56.0\n",
       "53926    56.0\n",
       "53927    59.0\n",
       "53928    58.0\n",
       "53929    56.0\n",
       "53930    55.0\n",
       "53931    62.0\n",
       "53932    59.0\n",
       "53933    59.0\n",
       "53934    59.0\n",
       "53935    57.0\n",
       "53936    55.0\n",
       "53937    60.0\n",
       "53938    58.0\n",
       "53939    55.0\n",
       "Name: table, Length: 53940, dtype: float64"
      ]
     },
     "execution_count": 34,
     "metadata": {},
     "output_type": "execute_result"
    }
   ],
   "source": [
    "df.table"
   ]
  },
  {
   "cell_type": "code",
   "execution_count": 35,
   "metadata": {},
   "outputs": [],
   "source": [
    "df_table=df.table"
   ]
  },
  {
   "cell_type": "code",
   "execution_count": 38,
   "metadata": {},
   "outputs": [],
   "source": [
    "df[df_table<alt_sinir]=alt_sinir"
   ]
  },
  {
   "cell_type": "code",
   "execution_count": 39,
   "metadata": {},
   "outputs": [
    {
     "data": {
      "text/plain": [
       "<matplotlib.axes._subplots.AxesSubplot at 0x25b485bc940>"
      ]
     },
     "execution_count": 39,
     "metadata": {},
     "output_type": "execute_result"
    },
    {
     "data": {
      "image/png": "[encoded data removed]",
      "text/plain": [
       "<Figure size 432x288 with 1 Axes>"
      ]
     },
     "metadata": {
      "needs_background": "light"
     },
     "output_type": "display_data"
    }
   ],
   "source": [
    "sns.boxplot(df_table)"
   ]
  },
  {
   "cell_type": "code",
   "execution_count": 40,
   "metadata": {},
   "outputs": [],
   "source": [
    "df[df_table>ust_sinir]=ust_sinir"
   ]
  },
  {
   "cell_type": "code",
   "execution_count": 42,
   "metadata": {},
   "outputs": [
    {
     "data": {
      "text/plain": [
       "<matplotlib.axes._subplots.AxesSubplot at 0x25b47c584e0>"
      ]
     },
     "execution_count": 42,
     "metadata": {},
     "output_type": "execute_result"
    },
    {
     "data": {
      "image/png": "[encoded data removed]",
      "text/plain": [
       "<Figure size 432x288 with 1 Axes>"
      ]
     },
     "metadata": {
      "needs_background": "light"
     },
     "output_type": "display_data"
    }
   ],
   "source": [
    "sns.boxplot(df.table)"
   ]
  },
  {
   "cell_type": "code",
   "execution_count": 43,
   "metadata": {},
   "outputs": [],
   "source": [
    "from sklearn.neighbors import LocalOutlierFactor"
   ]
  },
  {
   "cell_type": "code",
   "execution_count": 44,
   "metadata": {},
   "outputs": [],
   "source": [
    "np.random.seed(42)"
   ]
  },
  {
   "cell_type": "code",
   "execution_count": 64,
   "metadata": {},
   "outputs": [],
   "source": [
    "x_inliers=np.random.normal(loc=70,scale=3,size=(100,2))"
   ]
  },
  {
   "cell_type": "code",
   "execution_count": 65,
   "metadata": {},
   "outputs": [],
   "source": [
    "x_inliers=np.r_[x_inliers+10,x_inliers-10]"
   ]
  },
  {
   "cell_type": "code",
   "execution_count": 66,
   "metadata": {},
   "outputs": [],
   "source": [
    "import matplotlib.pyplot as plt"
   ]
  },
  {
   "cell_type": "code",
   "execution_count": 69,
   "metadata": {},
   "outputs": [
    {
     "name": "stdout",
     "output_type": "stream",
     "text": [
      "(200, 2)\n"
     ]
    }
   ],
   "source": [
    "print(x_inliers.shape)"
   ]
  },
  {
   "cell_type": "code",
   "execution_count": 71,
   "metadata": {},
   "outputs": [],
   "source": [
    "x_outliers=np.random.uniform(low=15,high=130,size=(20,2))"
   ]
  },
  {
   "cell_type": "code",
   "execution_count": 75,
   "metadata": {},
   "outputs": [],
   "source": [
    "x=np.r_[x_inliers,x_outliers]"
   ]
  },
  {
   "cell_type": "code",
   "execution_count": 77,
   "metadata": {},
   "outputs": [
    {
     "data": {
      "text/plain": [
       "<matplotlib.axes._subplots.AxesSubplot at 0x25b53b5e240>"
      ]
     },
     "execution_count": 77,
     "metadata": {},
     "output_type": "execute_result"
    },
    {
     "data": {
      "image/png": "[encoded data removed]",
      "text/plain": [
       "<Figure size 432x288 with 1 Axes>"
      ]
     },
     "metadata": {
      "needs_background": "light"
     },
     "output_type": "display_data"
    }
   ],
   "source": [
    "sns.boxplot(x)"
   ]
  },
  {
   "cell_type": "code",
   "execution_count": 82,
   "metadata": {},
   "outputs": [],
   "source": [
    "LOF=LocalOutlierFactor(n_neighbors=20,contamination=0.1)"
   ]
  },
  {
   "cell_type": "code",
   "execution_count": 83,
   "metadata": {},
   "outputs": [
    {
     "data": {
      "text/plain": [
       "array([ 1,  1,  1,  1,  1,  1,  1,  1,  1,  1,  1,  1,  1,  1,  1,  1,  1,\n",
       "        1,  1,  1,  1,  1,  1,  1,  1,  1,  1,  1,  1,  1,  1,  1,  1,  1,\n",
       "        1,  1,  1,  1,  1,  1,  1,  1,  1,  1,  1,  1,  1,  1,  1,  1,  1,\n",
       "        1, -1,  1,  1,  1,  1,  1,  1,  1,  1,  1,  1,  1,  1,  1,  1,  1,\n",
       "        1,  1,  1,  1,  1,  1,  1,  1,  1,  1,  1,  1,  1,  1,  1,  1,  1,\n",
       "        1,  1,  1,  1,  1,  1,  1,  1,  1,  1,  1,  1,  1,  1,  1,  1,  1,\n",
       "        1,  1,  1,  1,  1,  1,  1,  1,  1,  1,  1,  1,  1,  1,  1,  1,  1,\n",
       "        1,  1,  1,  1,  1,  1,  1,  1,  1,  1,  1,  1,  1,  1,  1,  1,  1,\n",
       "        1,  1,  1,  1,  1,  1,  1,  1,  1,  1,  1,  1,  1,  1,  1,  1, -1,\n",
       "        1,  1,  1,  1,  1,  1,  1,  1,  1,  1,  1,  1,  1,  1,  1,  1,  1,\n",
       "        1,  1,  1,  1,  1,  1,  1,  1,  1,  1,  1,  1,  1,  1,  1,  1,  1,\n",
       "        1,  1,  1,  1,  1,  1,  1,  1,  1,  1,  1,  1,  1, -1, -1, -1, -1,\n",
       "       -1, -1, -1, -1, -1, -1, -1, -1, -1, -1, -1, -1, -1, -1, -1, -1])"
      ]
     },
     "execution_count": 83,
     "metadata": {},
     "output_type": "execute_result"
    }
   ],
   "source": [
    "LOF.fit_predict(x)"
   ]
  },
  {
   "cell_type": "code",
   "execution_count": 84,
   "metadata": {},
   "outputs": [],
   "source": [
    "x_score=LOF.negative_outlier_factor_"
   ]
  },
  {
   "cell_type": "code",
   "execution_count": 85,
   "metadata": {},
   "outputs": [
    {
     "data": {
      "text/plain": [
       "array([ -1.21880141,  -1.05158028,  -1.02370773,  -1.13092494,\n",
       "        -0.9729987 ,  -1.0814832 ,  -1.02438257,  -0.96552349,\n",
       "        -0.9765626 ,  -1.37460529,  -0.98680704,  -0.97323121,\n",
       "        -1.12079744,  -1.07870875,  -1.21643336,  -1.01643165,\n",
       "        -1.22330655,  -1.07608271,  -1.02501911,  -0.99207911,\n",
       "        -0.96153059,  -1.57957033,  -1.15942188,  -1.09395984,\n",
       "        -1.02505424,  -1.15351554,  -1.10558014,  -1.05902366,\n",
       "        -1.02815534,  -1.37026564,  -0.96750093,  -1.14993387,\n",
       "        -1.06275303,  -1.12315126,  -0.97900036,  -0.96780028,\n",
       "        -0.97790145,  -1.07901704,  -1.0244819 ,  -0.97166033,\n",
       "        -1.17125651,  -1.10892706,  -0.97084206,  -0.98619116,\n",
       "        -1.13284474,  -1.2853702 ,  -0.99752773,  -0.99447164,\n",
       "        -1.13815187,  -1.11592983,  -1.09285605,  -0.96641532,\n",
       "        -2.66203112,  -0.96006029,  -1.02070538,  -1.29519465,\n",
       "        -0.96029273,  -0.97218192,  -1.01924859,  -1.03587082,\n",
       "        -0.9872085 ,  -1.23691751,  -0.96109461,  -1.05342781,\n",
       "        -1.01419884,  -0.97821315,  -1.08140225,  -1.00657545,\n",
       "        -0.9588553 ,  -0.98835165,  -0.97017594,  -0.97801044,\n",
       "        -1.34748583,  -1.0225462 ,  -0.99501744,  -1.06821611,\n",
       "        -1.06087384,  -1.03611986,  -0.96960228,  -1.14192816,\n",
       "        -1.10537962,  -1.16221624,  -1.18197964,  -1.13423169,\n",
       "        -1.10091417,  -0.98342769,  -0.96176246,  -1.25779035,\n",
       "        -1.02612257,  -0.96641532,  -1.06975593,  -0.95313101,\n",
       "        -0.98843641,  -1.01926027,  -1.07893354,  -1.20251336,\n",
       "        -1.11670865,  -1.03297357,  -1.06264758,  -0.96087996,\n",
       "        -1.22239883,  -1.05158028,  -1.02370773,  -1.1343367 ,\n",
       "        -0.9729987 ,  -1.0814832 ,  -1.02419707,  -0.96552349,\n",
       "        -0.9765626 ,  -1.37805104,  -0.98680704,  -0.97286278,\n",
       "        -1.12061557,  -1.07792646,  -1.2163633 ,  -1.01638317,\n",
       "        -1.22323498,  -1.07605315,  -1.02501911,  -0.99205613,\n",
       "        -0.96138493,  -1.57898017,  -1.16315663,  -1.09395984,\n",
       "        -1.02483679,  -1.15497846,  -1.10558014,  -1.05902366,\n",
       "        -1.02797029,  -1.37026564,  -0.96677726,  -1.14967507,\n",
       "        -1.06578144,  -1.12315126,  -0.97900036,  -0.96780028,\n",
       "        -0.97790145,  -1.07901704,  -1.0244819 ,  -0.9709337 ,\n",
       "        -1.17125651,  -1.10862057,  -0.97084206,  -0.98601869,\n",
       "        -1.13488182,  -1.30152567,  -0.99752773,  -0.99447164,\n",
       "        -1.1414169 ,  -1.11592983,  -1.09285605,  -0.96641532,\n",
       "        -2.76224361,  -0.95989698,  -1.02390129,  -1.29719047,\n",
       "        -0.96014684,  -0.97145492,  -1.01924859,  -1.03587082,\n",
       "        -0.98650248,  -1.23509222,  -0.960948  ,  -1.05342781,\n",
       "        -1.01720341,  -0.97821315,  -1.08140225,  -1.00559596,\n",
       "        -0.95869482,  -0.98835165,  -0.96945036,  -0.97801044,\n",
       "        -1.34740852,  -1.0225462 ,  -0.99501744,  -1.07385733,\n",
       "        -1.06087384,  -1.03975897,  -0.96960228,  -1.14192816,\n",
       "        -1.10537962,  -1.16215205,  -1.18407191,  -1.13423169,\n",
       "        -1.10079313,  -0.98342769,  -0.96161677,  -1.26840083,\n",
       "        -1.02612257,  -0.96641532,  -1.06975593,  -0.95313101,\n",
       "        -0.98843641,  -1.01926027,  -1.08673863,  -1.20251336,\n",
       "        -1.11670865,  -1.03297357,  -1.06264758,  -0.96087996,\n",
       "        -9.06253651, -10.47903482,  -9.27808493,  -1.73625374,\n",
       "        -8.28787539, -10.63829545,  -7.18731425,  -4.1544842 ,\n",
       "        -4.01623124,  -7.24140759, -14.59753405,  -9.45077907,\n",
       "        -9.2874421 ,  -7.33083309,  -5.01452505,  -9.47108962,\n",
       "        -7.22959861,  -7.9119105 ,  -7.54074061,  -8.15881476])"
      ]
     },
     "execution_count": 85,
     "metadata": {},
     "output_type": "execute_result"
    }
   ],
   "source": [
    "x_score"
   ]
  },
  {
   "cell_type": "code",
   "execution_count": 86,
   "metadata": {},
   "outputs": [
    {
     "data": {
      "text/plain": [
       "-1.7054348971322575"
      ]
     },
     "execution_count": 86,
     "metadata": {},
     "output_type": "execute_result"
    }
   ],
   "source": [
    "x_score.mean()"
   ]
  },
  {
   "cell_type": "code",
   "execution_count": 87,
   "metadata": {},
   "outputs": [
    {
     "data": {
      "text/plain": [
       "2.1315474597296546"
      ]
     },
     "execution_count": 87,
     "metadata": {},
     "output_type": "execute_result"
    }
   ],
   "source": [
    "x_score.std()"
   ]
  },
  {
   "cell_type": "code",
   "execution_count": 89,
   "metadata": {},
   "outputs": [
    {
     "data": {
      "text/plain": [
       "array([-14.59753405, -10.63829545, -10.47903482,  -9.47108962,\n",
       "        -9.45077907,  -9.2874421 ,  -9.27808493,  -9.06253651,\n",
       "        -8.28787539,  -8.15881476,  -7.9119105 ,  -7.54074061,\n",
       "        -7.33083309,  -7.24140759,  -7.22959861])"
      ]
     },
     "execution_count": 89,
     "metadata": {},
     "output_type": "execute_result"
    }
   ],
   "source": [
    "np.sort(x_score)[0:15]"
   ]
  },
  {
   "cell_type": "code",
   "execution_count": 92,
   "metadata": {},
   "outputs": [
    {
     "data": {
      "text/plain": [
       "<matplotlib.collections.PathCollection at 0x25b4cf31668>"
      ]
     },
     "execution_count": 92,
     "metadata": {},
     "output_type": "execute_result"
    },
    {
     "data": {
      "image/png": "[encoded data removed]",
      "text/plain": [
       "<Figure size 432x288 with 1 Axes>"
      ]
     },
     "metadata": {
      "needs_background": "light"
     },
     "output_type": "display_data"
    }
   ],
   "source": [
    "plt.scatter(x[:,0],x[:,1],color=\"k\",s=3)"
   ]
  },
  {
   "cell_type": "code",
   "execution_count": 93,
   "metadata": {},
   "outputs": [],
   "source": [
    "radius=(x_score.max()-x_score)/(x_score.max()-x_score.min())"
   ]
  },
  {
   "cell_type": "code",
   "execution_count": 98,
   "metadata": {},
   "outputs": [
    {
     "data": {
      "text/plain": [
       "<matplotlib.collections.PathCollection at 0x25b4d407908>"
      ]
     },
     "execution_count": 98,
     "metadata": {},
     "output_type": "execute_result"
    },
    {
     "data": {
      "image/png": "[encoded data removed]",
      "text/plain": [
       "<Figure size 432x288 with 1 Axes>"
      ]
     },
     "metadata": {
      "needs_background": "light"
     },
     "output_type": "display_data"
    }
   ],
   "source": [
    "plt.scatter(x[:,0],x[:,1],color=\"k\",s=1000*radius,facecolor=\"none\",edgecolor=\"g\")"
   ]
  },
  {
   "cell_type": "code",
   "execution_count": null,
   "metadata": {},
   "outputs": [],
   "source": []
  }
 ],
 "metadata": {
  "kernelspec": {
   "display_name": "Python 3",
   "language": "python",
   "name": "python3"
  },
  "language_info": {
   "codemirror_mode": {
    "name": "ipython",
    "version": 3
   },
   "file_extension": ".py",
   "mimetype": "text/x-python",
   "name": "python",
   "nbconvert_exporter": "python",
   "pygments_lexer": "ipython3",
   "version": "3.7.3"
  }
 },
 "nbformat": 4,
 "nbformat_minor": 2
}
