{
 "cells": [
  {
   "cell_type": "markdown",
   "metadata": {},
   "source": [
    "a={1,2,4}\n",
    "b={4,5,6}\n",
    "c={4,9,450}\n",
    "a.intersection(b).intersection(c)\n",
    "a.issubset({1})\n"
   ]
  },
  {
   "cell_type": "code",
   "execution_count": 110,
   "metadata": {},
   "outputs": [
    {
     "name": "stdout",
     "output_type": "stream",
     "text": [
      "Hello World\n"
     ]
    },
    {
     "ename": "TypeError",
     "evalue": "unhashable type: 'list'",
     "output_type": "error",
     "traceback": [
      "\u001b[1;31m---------------------------------------------------------------------------\u001b[0m",
      "\u001b[1;31mTypeError\u001b[0m                                 Traceback (most recent call last)",
      "\u001b[1;32m<ipython-input-110-462ee4b80c1e>\u001b[0m in \u001b[0;36m<module>\u001b[1;34m\u001b[0m\n\u001b[0;32m     26\u001b[0m \u001b[0minsan\u001b[0m\u001b[1;33m[\u001b[0m\u001b[1;33m(\u001b[0m\u001b[1;36m1\u001b[0m\u001b[1;33m,\u001b[0m\u001b[1;36m47\u001b[0m\u001b[1;33m,\u001b[0m\u001b[1;36m800\u001b[0m\u001b[1;33m)\u001b[0m\u001b[1;33m]\u001b[0m\u001b[1;33m=\u001b[0m\u001b[1;34m\"Konya\"\u001b[0m\u001b[1;33m\u001b[0m\u001b[1;33m\u001b[0m\u001b[0m\n\u001b[0;32m     27\u001b[0m \u001b[0minsan\u001b[0m\u001b[1;33m[\u001b[0m\u001b[1;33m(\u001b[0m\u001b[1;36m1\u001b[0m\u001b[1;33m,\u001b[0m\u001b[1;36m47\u001b[0m\u001b[1;33m,\u001b[0m\u001b[1;36m800\u001b[0m\u001b[1;33m)\u001b[0m\u001b[1;33m]\u001b[0m\u001b[1;33m\u001b[0m\u001b[1;33m\u001b[0m\u001b[0m\n\u001b[1;32m---> 28\u001b[1;33m \u001b[0minsan\u001b[0m\u001b[1;33m[\u001b[0m\u001b[1;33m[\u001b[0m\u001b[1;36m0\u001b[0m\u001b[1;33m,\u001b[0m\u001b[1;36m1\u001b[0m\u001b[1;33m]\u001b[0m\u001b[1;33m]\u001b[0m\u001b[1;33m=\u001b[0m\u001b[1;36m0\u001b[0m\u001b[1;33m\u001b[0m\u001b[1;33m\u001b[0m\u001b[0m\n\u001b[0m",
      "\u001b[1;31mTypeError\u001b[0m: unhashable type: 'list'"
     ]
    }
   ],
   "source": [
    "a={1,2,4}\n",
    "b={4,5,6} \n",
    "c={4,9,450} \n",
    "c.issubset({4,9,45,45})\n",
    "len(c)\n",
    "if 2 in a:\n",
    "    print(\"Hello World\")\n",
    "\n",
    "    \n",
    "    \n",
    "insan={\"isim\":\"Mustafa\",\n",
    "       \"soyisim\":\"yurdakul\",\n",
    "       \"telefon_rehberi\":{\"ali\":\"053231\",\n",
    "                          \"gizli\":{\n",
    "                              \"id\":0,\n",
    "                              \"code\":985\n",
    "                          },\n",
    "                        \"mehmet\":\"25551\",\n",
    "                          \"veli\":\"78465\"},\n",
    "       \"hesap_numaraları\":[123132,7988465]\n",
    "      }    \n",
    "insan[\"isim\"]+insan[\"soyisim\"]\n",
    "insan[\"telefon_rehberi\"][\"ali\"]\n",
    "insan[\"telefon_rehberi\"][\"gizli\"][\"code\"]\n",
    "insan[\"cinsiyet\"]=\"Erkek\"\n",
    "insan[(1,47,800)]=\"Konya\"\n",
    "insan[(1,47,800)]\n",
    "insan[[0,1]]=0\n"
   ]
  },
  {
   "cell_type": "code",
   "execution_count": 121,
   "metadata": {},
   "outputs": [
    {
     "data": {
      "text/plain": [
       "{'elma': 1, 'armut': 2, 'id': 78, 'karOranı': 100}"
      ]
     },
     "execution_count": 121,
     "metadata": {},
     "output_type": "execute_result"
    }
   ],
   "source": [
    "a={\"elma\":1,\"armut\":2}\n",
    "\"armut\" in list(a.keys())\n",
    "b={\"id\":78,\"karOranı\":100}\n",
    "a.update(b)\n",
    "a"
   ]
  },
  {
   "cell_type": "code",
   "execution_count": 126,
   "metadata": {},
   "outputs": [
    {
     "name": "stdout",
     "output_type": "stream",
     "text": [
      "Benim adım Mustafa senin adın Brgüm mi?\n",
      "Brnindas45\n",
      "doktri konya kayse\n"
     ]
    }
   ],
   "source": [
    "sayi=45\n",
    "print(\"Benim adım %s senin adın %s mi?\"%(\"Mustafa\",\"Brgüm\"))\n",
    "print(\"Brnindas\"+str(45))\n",
    "print(\"doktri {a} kayse\".format(a=\"konya\"))"
   ]
  }
 ],
 "metadata": {
  "kernelspec": {
   "display_name": "Python 3",
   "language": "python",
   "name": "python3"
  },
  "language_info": {
   "codemirror_mode": {
    "name": "ipython",
    "version": 3
   },
   "file_extension": ".py",
   "mimetype": "text/x-python",
   "name": "python",
   "nbconvert_exporter": "python",
   "pygments_lexer": "ipython3",
   "version": "3.7.3"
  }
 },
 "nbformat": 4,
 "nbformat_minor": 2
}
