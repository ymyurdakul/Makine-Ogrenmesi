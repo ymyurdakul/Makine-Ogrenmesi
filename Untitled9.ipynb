{
 "cells": [
  {
   "cell_type": "code",
   "execution_count": 270,
   "metadata": {},
   "outputs": [
    {
     "data": {
      "text/plain": [
       "'0.24.2'"
      ]
     },
     "execution_count": 270,
     "metadata": {},
     "output_type": "execute_result"
    },
    {
     "data": {
      "image/png": "[encoded data removed]",
      "text/plain": [
       "<Figure size 432x288 with 1 Axes>"
      ]
     },
     "metadata": {},
     "output_type": "display_data"
    }
   ],
   "source": [
    "from matplotlib import pyplot as plt\n",
    "import numpy as np\n",
    "a=np.array([range(i,i+3) for i in range(10)])\n",
    "a=np.zeros((5,5),dtype=int)\n",
    "a=np.random.randint(low=0,high=100,size=(5,5))\n",
    "a=np.array([0, 1, 2, 3, 4, 5, 6, 7, 8, 9])\n",
    "a[::2]\n",
    "a[1::5]\n",
    "a[::-1]\n",
    "a=np. array([[12, 5, 2, 4],\n",
    "            [ 7, 6, 8, 8],\n",
    "         [ 1, 6, 7, 7]])\n",
    "a[::-1,0:2]\n",
    "a[:,3]=0\n",
    "a\n",
    "t=a[2,:].copy()\n",
    "t[0]=-1\n",
    "a\n",
    "x=np.array([0,1,2])\n",
    "y=np.array([3,4,5])\n",
    "z=[1,5,7]\n",
    "r=np.concatenate((x,y,z),axis=0)\n",
    "r.shape=(3,3)\n",
    "r\n",
    "x=np.array([[4,5,6],\n",
    "           [7,8,9]])\n",
    "y=np.array([[10,12,15],\n",
    "           [25,26,27]])\n",
    "z=np.concatenate((x,y),axis=1)\n",
    "\n",
    "\n",
    "big_array = np.random.randint(1, 100, size=1000000)\n",
    "##d=%timeit np.reciprocal(big_array)\n",
    "x=np.arange(5)\n",
    "x=(-x)\n",
    "x=np.negative(x)\n",
    "x=x//2\n",
    "x=-x\n",
    "x\n",
    "abs(x)\n",
    "d=np.arange(10)\n",
    "np.add.reduce(d)\n",
    "np.sum(x)\n",
    "f=np.random.randint(low=0,high=90,size=20)\n",
    "np.sum(f)\n",
    "np.max(f)\n",
    "np.min(f)\n",
    "M = np.random.random((3, 4))\n",
    "M.sum()\n",
    "M.min(axis=0)\n",
    "np.min(M,0)\n",
    "np.argmin(M,axis=0)\n",
    "M.var()\n",
    "M.std()\n",
    "M.mean()\n",
    "M.max()\n",
    "%matplotlib inline\n",
    "import matplotlib.pyplot as plt\n",
    "import seaborn; seaborn.set() \n",
    "n=np.random.randint(0,100,200)\n",
    "#plt.hist(n)\n",
    "import pandas as pd\n",
    "f=pd.read_csv(\"s.csv\")\n",
    "t=f[\"PRCP\"].values/254\n",
    "#plt.hist(t[t>t.mean()])\n",
    "f.head()\n",
    "dates=f[f[\"SNOW\"].values<f[\"SNOW\"].mean()][\"DATE\"].values\n",
    "dates=np.array([str(str(item)[0]+\"\"+str(item)[1]+str(str(item)[2])+str(str(item)[3])) for item in dates])\n",
    "a=np.arange(100)\n",
    "a[np.nonzero(a>52)]\n",
    "np.count_nonzero(a>20)\n",
    "np.sum(a>5)\n",
    "np.any(a>5)\n",
    "np.all(a>5)\n",
    "t=a[(a>6)&(a<10)]\n",
    "t\n",
    "np.sum((a>5)&(a<9))\n",
    "\n",
    "a=np.arange(100)\n",
    "\n",
    "sum((a>2) & (a<45))\n",
    "f.head()\n",
    "sum(f[\"TMAX\"]>f[\"TMAX\"].mean())\n",
    "f.head()\n",
    "sum(f[\"PRCP\"]<f[\"PRCP\"])\n",
    "p=f[\"PRCP\"].values\n",
    "p.shape=(73,5)\n",
    "p[:,[0,1]]\n",
    "plt.scatter(p[:,3],p[:,[4]])\n",
    "gh= np.array([93, 45, 73, 81, 50, 10, 98, 94, 4, 64, 65, 89, 47, 84, 82,\n",
    " 80, 25, 90, 63, 20])\n",
    "plt.scatter(gh[:20],np.arange(20))\n",
    "\n",
    "name = ['Alice', 'Bob', 'Cathy', 'Doug']\n",
    "age = [25, 45, 37, 19]\n",
    "weight = [55.0, 85.5, 68.0, 61.5]\n",
    "data = np.zeros(4, dtype={'names':('name', 'age', 'weight'),\n",
    " 'formats':('U10', 'i4', 'f8')})\n",
    "data[\"name\"]=name\n",
    "data[\"age\"]=age\n",
    "data[\"weight\"]=weight\n",
    "data[data[\"age\"]<30][\"name\"]\n",
    "pd.__version__\n",
    "\n",
    "\n",
    "\n"
   ]
  },
  {
   "cell_type": "code",
   "execution_count": 378,
   "metadata": {},
   "outputs": [],
   "source": [
    "type(f[\"DATE\"])\n",
    "#f[\"\"]f[\"DATE\"][0:20]\n",
    "f[\"STATION\"].index\n",
    "\n",
    "sr=pd.Series(data=[[1,2],[3,4]],index=[\"a\",\"b\"],name=\"as\")\n",
    "np.asarray(sr[\"a\"]).sum()\n",
    "dic={\"Almanya\":45,\"Fransa\":44}\n",
    "sr=pd.Series(dic)\n",
    "sr[\"Almanya\":\"Fransa\"]\n",
    "siniflistesi=[\"Ali\",\"Veli\",\"Fatma\",\"Mahmut\"]\n",
    "sr=pd.Series(siniflistesi)\n",
    "sr[0:1]\n",
    "import seaborn as sns\n",
    "planets = sns.load_dataset('planets')\n",
    "planets.head()\n",
    "planets[\"method\"].value_counts()\n",
    "(planets[planets[\"year\"]>2013])\n",
    "\n",
    "kl.index\n",
    "kl.columns\n",
    "planets.columns\n",
    "planets.loc[0:10,planets.columns[0:2]]\n",
    "planets.index.start=7\n"
   ]
  },
  {
   "cell_type": "code",
   "execution_count": 380,
   "metadata": {},
   "outputs": [
    {
     "ename": "TypeError",
     "evalue": "'dict' object is not callable",
     "output_type": "error",
     "traceback": [
      "\u001b[1;31m---------------------------------------------------------------------------\u001b[0m",
      "\u001b[1;31mTypeError\u001b[0m                                 Traceback (most recent call last)",
      "\u001b[1;32m<ipython-input-380-9ef9d7ae4932>\u001b[0m in \u001b[0;36m<module>\u001b[1;34m\u001b[0m\n\u001b[0;32m      1\u001b[0m \u001b[1;32mimport\u001b[0m \u001b[0mpandas\u001b[0m \u001b[1;32mas\u001b[0m \u001b[0mpd\u001b[0m\u001b[1;33m\u001b[0m\u001b[1;33m\u001b[0m\u001b[0m\n\u001b[1;32m----> 2\u001b[1;33m \u001b[0ms\u001b[0m\u001b[1;33m=\u001b[0m\u001b[0mpd\u001b[0m\u001b[1;33m.\u001b[0m\u001b[0mDataFrame\u001b[0m\u001b[1;33m(\u001b[0m\u001b[1;33m)\u001b[0m\u001b[1;33m\u001b[0m\u001b[1;33m\u001b[0m\u001b[0m\n\u001b[0m",
      "\u001b[1;31mTypeError\u001b[0m: 'dict' object is not callable"
     ]
    }
   ],
   "source": [
    "import pandas as pd\n",
    " "
   ]
  }
 ],
 "metadata": {
  "kernelspec": {
   "display_name": "Python 3",
   "language": "python",
   "name": "python3"
  },
  "language_info": {
   "codemirror_mode": {
    "name": "ipython",
    "version": 3
   },
   "file_extension": ".py",
   "mimetype": "text/x-python",
   "name": "python",
   "nbconvert_exporter": "python",
   "pygments_lexer": "ipython3",
   "version": "3.7.3"
  }
 },
 "nbformat": 4,
 "nbformat_minor": 2
}
