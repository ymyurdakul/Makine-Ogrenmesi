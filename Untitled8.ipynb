{
 "cells": [
  {
   "cell_type": "code",
   "execution_count": 23,
   "metadata": {},
   "outputs": [],
   "source": [
    "def üsal(kuvvet):\n",
    "    def kuvvetal(sayi):\n",
    "        return sayi**kuvvet\n",
    "    return kuvvetal\n",
    "\n",
    "def vurdur(n):\n",
    "    def yazdir(metin):\n",
    "        print((metin)*n)\n",
    "    return yazdir\n",
    "\n"
   ]
  },
  {
   "cell_type": "code",
   "execution_count": 41,
   "metadata": {},
   "outputs": [
    {
     "name": "stdout",
     "output_type": "stream",
     "text": [
      "3125\n"
     ]
    }
   ],
   "source": [
    "def simple(x):\n",
    "    return x**x\n",
    "\n",
    "\n",
    "def ldo(x,fx):\n",
    "    print(fx(x))\n",
    "    \n",
    "ldo(5,simple)"
   ]
  },
  {
   "cell_type": "code",
   "execution_count": 82,
   "metadata": {},
   "outputs": [
    {
     "name": "stdout",
     "output_type": "stream",
     "text": [
      "[0, 0, 0, 1]\n"
     ]
    }
   ],
   "source": [
    "class Gen:\n",
    "    def __init__(self,value):\n",
    "        self.value=value\n",
    "        pass\n",
    "class Kromozom:\n",
    " \n",
    "    def __init__(self,genler):\n",
    "        self.genler=genler\n",
    "        pass\n",
    "    def print(self):\n",
    "        print(self.genler)\n",
    "        pass\n",
    "\n",
    "x1=Kromozom([0,0,0,1])\n",
    "x1.print()"
   ]
  },
  {
   "cell_type": "code",
   "execution_count": null,
   "metadata": {},
   "outputs": [],
   "source": []
  }
 ],
 "metadata": {
  "kernelspec": {
   "display_name": "Python 3",
   "language": "python",
   "name": "python3"
  },
  "language_info": {
   "codemirror_mode": {
    "name": "ipython",
    "version": 3
   },
   "file_extension": ".py",
   "mimetype": "text/x-python",
   "name": "python",
   "nbconvert_exporter": "python",
   "pygments_lexer": "ipython3",
   "version": "3.7.3"
  }
 },
 "nbformat": 4,
 "nbformat_minor": 2
}
