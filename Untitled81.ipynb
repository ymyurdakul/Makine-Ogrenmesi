{
 "cells": [
  {
   "cell_type": "code",
   "execution_count": 2,
   "metadata": {},
   "outputs": [
    {
     "name": "stdout",
     "output_type": "stream",
     "text": [
      "Requirement already satisfied: SimpleCV in c:\\users\\mustafa\\anaconda3\\lib\\site-packages (1.3)\n"
     ]
    }
   ],
   "source": [
    "!pip install SimpleCV"
   ]
  },
  {
   "cell_type": "code",
   "execution_count": 10,
   "metadata": {},
   "outputs": [
    {
     "ename": "SyntaxError",
     "evalue": "Missing parentheses in call to 'print'. Did you mean print('unit test')? (base.py, line 139)",
     "output_type": "error",
     "traceback": [
      "Traceback \u001b[1;36m(most recent call last)\u001b[0m:\n",
      "  File \u001b[0;32m\"C:\\Users\\Mustafa\\Anaconda3\\lib\\site-packages\\IPython\\core\\interactiveshell.py\"\u001b[0m, line \u001b[0;32m3296\u001b[0m, in \u001b[0;35mrun_code\u001b[0m\n    exec(code_obj, self.user_global_ns, self.user_ns)\n",
      "  File \u001b[0;32m\"<ipython-input-10-aa08fc7dd0c6>\"\u001b[0m, line \u001b[0;32m1\u001b[0m, in \u001b[0;35m<module>\u001b[0m\n    from SimpleCV import Camera, Display\n",
      "\u001b[1;36m  File \u001b[1;32m\"C:\\Users\\Mustafa\\Anaconda3\\lib\\site-packages\\SimpleCV\\__init__.py\"\u001b[1;36m, line \u001b[1;32m3\u001b[1;36m, in \u001b[1;35m<module>\u001b[1;36m\u001b[0m\n\u001b[1;33m    from SimpleCV.base import *\u001b[0m\n",
      "\u001b[1;36m  File \u001b[1;32m\"C:\\Users\\Mustafa\\Anaconda3\\lib\\site-packages\\SimpleCV\\base.py\"\u001b[1;36m, line \u001b[1;32m139\u001b[0m\n\u001b[1;33m    print 'unit test'\u001b[0m\n\u001b[1;37m                    ^\u001b[0m\n\u001b[1;31mSyntaxError\u001b[0m\u001b[1;31m:\u001b[0m Missing parentheses in call to 'print'. Did you mean print('unit test')?\n"
     ]
    }
   ],
   "source": [
    "from SimpleCV import Camera, Display\n",
    "cam = Camera()\n",
    "disp = Display(cam.getImage().size())\n",
    "while disp.isNotDone():\n",
    "    img = cam.getImage()\n",
    "# Look for a face\n",
    "    faces = img.findHaarFeatures('face')\n",
    "if faces is not None:\n",
    "# Get the largest face\n",
    "    faces = faces.sortArea()\n",
    "    bigFace = faces[-1]\n",
    "# Draw a green box around the face\n",
    "    bigFace.draw()\n",
    "    img.save(disp)"
   ]
  }
 ],
 "metadata": {
  "kernelspec": {
   "display_name": "Python 3",
   "language": "python",
   "name": "python3"
  },
  "language_info": {
   "codemirror_mode": {
    "name": "ipython",
    "version": 3
   },
   "file_extension": ".py",
   "mimetype": "text/x-python",
   "name": "python",
   "nbconvert_exporter": "python",
   "pygments_lexer": "ipython3",
   "version": "3.7.3"
  }
 },
 "nbformat": 4,
 "nbformat_minor": 2
}
