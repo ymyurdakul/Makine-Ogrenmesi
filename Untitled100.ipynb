{
 "cells": [
  {
   "cell_type": "markdown",
   "metadata": {},
   "source": [
    "<h2 style=\"color:red\"> Bağımlı iki örneklem testi burdaki amaç bir kitle üzerinde yapılan iki uygulama arasında bir fark olup olmadığını anlamaktır</h2>\n",
    "<h4>Örnegin bir firmada yapılan bir eğitimin öncesi ve sonrası karşılastırılabilir</h4>"
   ]
  },
  {
   "cell_type": "code",
   "execution_count": 1,
   "metadata": {},
   "outputs": [],
   "source": [
    "import numpy as np\n",
    "import pandas as pd\n",
    "import seaborn as sns"
   ]
  },
  {
   "cell_type": "code",
   "execution_count": 2,
   "metadata": {},
   "outputs": [],
   "source": [
    "oncesi=pd.DataFrame([123,119,119,116,123,121,120,117,\n",
    "                    118,121,121,123,119,121,118,124,121,\n",
    "                    125,115,115,119,118,121,117,120,120,\n",
    "                    121,117,118,117,123,118,124,121,115,118,125,115])"
   ]
  },
  {
   "cell_type": "code",
   "execution_count": 3,
   "metadata": {},
   "outputs": [],
   "source": [
    "sonrasi=pd.DataFrame([118,127,122,132,129,123,129,132,128,130,\n",
    "                     128,138,140,130,134,134,124,140,134,129,129,138,134,124,122,126,133\n",
    "                     ,127,130,130,130,132,117,130,125,129,133,120,127,123])"
   ]
  },
  {
   "cell_type": "code",
   "execution_count": 7,
   "metadata": {},
   "outputs": [],
   "source": [
    "#birinci Veri Seti\n",
    "birlikte=pd.concat([oncesi,sonrasi],axis=1)\n",
    "birlikte.head()\n",
    "birlikte.columns=[\"Öncesi\",\"Sonrası\"]"
   ]
  },
  {
   "cell_type": "code",
   "execution_count": 10,
   "metadata": {},
   "outputs": [
    {
     "name": "stdout",
     "output_type": "stream",
     "text": [
      "Birlikte Veri Seti \n",
      "    Öncesi  Sonrası\n",
      "0   123.0      118\n",
      "1   119.0      127\n",
      "2   119.0      122\n",
      "3   116.0      132\n",
      "4   123.0      129\n"
     ]
    }
   ],
   "source": [
    "print(\"Birlikte Veri Seti \\n\",birlikte.head())"
   ]
  },
  {
   "cell_type": "code",
   "execution_count": 16,
   "metadata": {},
   "outputs": [],
   "source": [
    "#ikinci veri seti\n",
    "grup_once=np.arange(len(oncesi))\n",
    "grup_once=pd.DataFrame(grup_once)\n",
    "grup_once[:]=\"Oncesi\"\n",
    "A=pd.concat([oncesi,grup_once],axis=1)\n",
    "\n",
    "\n",
    "grup_sonra=np.arange(len(sonrasi))\n",
    "grup_sonra=pd.DataFrame(grup_sonra)\n",
    "grup_sonra[:]=\"Sonrası\"\n",
    "B=pd.concat([sonrasi,grup_sonra],axis=1)\n",
    "\n",
    "#TümVeriyi bir araya getirme\n",
    "ab=pd.concat([A,B])\n",
    "ab.columns=[\"Skor\",\"Oncesi_Sonrasi\"]"
   ]
  },
  {
   "cell_type": "code",
   "execution_count": 17,
   "metadata": {},
   "outputs": [
    {
     "data": {
      "text/html": [
       "<div>\n",
       "<style scoped>\n",
       "    .dataframe tbody tr th:only-of-type {\n",
       "        vertical-align: middle;\n",
       "    }\n",
       "\n",
       "    .dataframe tbody tr th {\n",
       "        vertical-align: top;\n",
       "    }\n",
       "\n",
       "    .dataframe thead th {\n",
       "        text-align: right;\n",
       "    }\n",
       "</style>\n",
       "<table border=\"1\" class=\"dataframe\">\n",
       "  <thead>\n",
       "    <tr style=\"text-align: right;\">\n",
       "      <th></th>\n",
       "      <th>Skor</th>\n",
       "      <th>Oncesi_Sonrasi</th>\n",
       "    </tr>\n",
       "  </thead>\n",
       "  <tbody>\n",
       "    <tr>\n",
       "      <th>0</th>\n",
       "      <td>123</td>\n",
       "      <td>Oncesi</td>\n",
       "    </tr>\n",
       "    <tr>\n",
       "      <th>1</th>\n",
       "      <td>119</td>\n",
       "      <td>Oncesi</td>\n",
       "    </tr>\n",
       "    <tr>\n",
       "      <th>2</th>\n",
       "      <td>119</td>\n",
       "      <td>Oncesi</td>\n",
       "    </tr>\n",
       "    <tr>\n",
       "      <th>3</th>\n",
       "      <td>116</td>\n",
       "      <td>Oncesi</td>\n",
       "    </tr>\n",
       "    <tr>\n",
       "      <th>4</th>\n",
       "      <td>123</td>\n",
       "      <td>Oncesi</td>\n",
       "    </tr>\n",
       "  </tbody>\n",
       "</table>\n",
       "</div>"
      ],
      "text/plain": [
       "   Skor Oncesi_Sonrasi\n",
       "0   123         Oncesi\n",
       "1   119         Oncesi\n",
       "2   119         Oncesi\n",
       "3   116         Oncesi\n",
       "4   123         Oncesi"
      ]
     },
     "execution_count": 17,
     "metadata": {},
     "output_type": "execute_result"
    }
   ],
   "source": [
    "ab.head()"
   ]
  },
  {
   "cell_type": "code",
   "execution_count": 20,
   "metadata": {},
   "outputs": [
    {
     "data": {
      "text/plain": [
       "<matplotlib.axes._subplots.AxesSubplot at 0x284140f88d0>"
      ]
     },
     "execution_count": 20,
     "metadata": {},
     "output_type": "execute_result"
    },
    {
     "data": {
      "image/png": "[encoded data removed]",
      "text/plain": [
       "<Figure size 432x288 with 1 Axes>"
      ]
     },
     "metadata": {
      "needs_background": "light"
     },
     "output_type": "display_data"
    }
   ],
   "source": [
    "sns.boxplot(x=\"Oncesi_Sonrasi\",y=\"Skor\",data=ab)"
   ]
  },
  {
   "cell_type": "code",
   "execution_count": 27,
   "metadata": {},
   "outputs": [
    {
     "data": {
      "text/plain": [
       "<seaborn.axisgrid.FacetGrid at 0x28414a17fd0>"
      ]
     },
     "execution_count": 27,
     "metadata": {},
     "output_type": "execute_result"
    },
    {
     "data": {
      "image/png": "[encoded data removed]",
      "text/plain": [
       "<Figure size 299.875x216 with 1 Axes>"
      ]
     },
     "metadata": {
      "needs_background": "light"
     },
     "output_type": "display_data"
    }
   ],
   "source": [
    "sns.FacetGrid(data=ab,hue=\"Oncesi_Sonrasi\").map(sns.kdeplot,\"Skor\").add_legend()\n",
    "#Oncesi daha homoje dağılış ama sonrası daha yayılımlı"
   ]
  },
  {
   "cell_type": "code",
   "execution_count": 28,
   "metadata": {},
   "outputs": [],
   "source": [
    "#Varsayım kontrolu 1-Normallik 2-Varyans Homojelği"
   ]
  },
  {
   "cell_type": "code",
   "execution_count": 29,
   "metadata": {},
   "outputs": [],
   "source": [
    "from scipy.stats import shapiro"
   ]
  },
  {
   "cell_type": "code",
   "execution_count": 31,
   "metadata": {},
   "outputs": [
    {
     "data": {
      "text/plain": [
       "(0.9558944702148438, 0.13929924368858337)"
      ]
     },
     "execution_count": 31,
     "metadata": {},
     "output_type": "execute_result"
    }
   ],
   "source": [
    "shapiro(oncesi)"
   ]
  },
  {
   "cell_type": "code",
   "execution_count": 33,
   "metadata": {},
   "outputs": [
    {
     "data": {
      "text/plain": [
       "(0.9780089259147644, 0.6159515380859375)"
      ]
     },
     "execution_count": 33,
     "metadata": {},
     "output_type": "execute_result"
    }
   ],
   "source": [
    "shapiro(sonrasi)"
   ]
  },
  {
   "cell_type": "code",
   "execution_count": 34,
   "metadata": {},
   "outputs": [],
   "source": [
    "from scipy.stats import levene"
   ]
  },
  {
   "cell_type": "code",
   "execution_count": 37,
   "metadata": {},
   "outputs": [
    {
     "data": {
      "text/plain": [
       "LeveneResult(statistic=8.197532433118097, pvalue=0.005418326309480423)"
      ]
     },
     "execution_count": 37,
     "metadata": {},
     "output_type": "execute_result"
    }
   ],
   "source": [
    "levene(oncesi[0],sonrasi[0])\n",
    "#Varyans homojenliği reddeilir \n",
    "#Ho varyanslar homojen dağılmıştır yani a ve b kitlesi \n",
    "#arasında fark yokrtu der\n",
    "#Ama reddedilir\n",
    "#Ama bunu göz ardı ediceğiz sonra non parametrik te deniyeceğiz\n",
    "#Varyans homojenliğinde biraz esnek davranabiliriz\n",
    "#ama normallikte sorun varsa direk nonparametrik yaklaşım kullanılır\n"
   ]
  },
  {
   "cell_type": "code",
   "execution_count": 55,
   "metadata": {},
   "outputs": [],
   "source": [
    "import scipy.stats as stats\n",
    "birlikte.fillna(value=120,inplace=True)"
   ]
  },
  {
   "cell_type": "code",
   "execution_count": 59,
   "metadata": {},
   "outputs": [
    {
     "data": {
      "text/plain": [
       "Ttest_relResult(statistic=-9.922779606661322, pvalue=3.1856859759657504e-12)"
      ]
     },
     "execution_count": 59,
     "metadata": {},
     "output_type": "execute_result"
    }
   ],
   "source": [
    "stats.ttest_rel(birlikte.Öncesi,birlikte.Sonrası)\n",
    "#H0: Mu0=Mu1 yani bir değişme olmamıştır bu hipotez reddeilir yani oncesi ve sonraso arasında bir değişiklik olmuştur \n",
    "#eğitim basarlı olmutur %95 olasılık"
   ]
  },
  {
   "cell_type": "markdown",
   "metadata": {},
   "source": [
    "#Yukarıda Varsayımın sağlanmadığı görükldü bu varsayım varyansın homojen olmadığı içindi bu yüzden nonparametrik iki bağımlı örneklem testinide yapabiliriz \n",
    "H0 :M0=M1\n",
    "H1 :M0 not equal M1"
   ]
  },
  {
   "cell_type": "code",
   "execution_count": 60,
   "metadata": {},
   "outputs": [
    {
     "data": {
      "text/plain": [
       "WilcoxonResult(statistic=18.5, pvalue=1.392810757723373e-07)"
      ]
     },
     "execution_count": 60,
     "metadata": {},
     "output_type": "execute_result"
    }
   ],
   "source": [
    "stats.wilcoxon(birlikte.Öncesi,birlikte.Sonrası)"
   ]
  },
  {
   "cell_type": "markdown",
   "metadata": {},
   "source": [
    "Hipotez reddeilir yani bir fark olmuştur"
   ]
  }
 ],
 "metadata": {
  "kernelspec": {
   "display_name": "Python 3",
   "language": "python",
   "name": "python3"
  },
  "language_info": {
   "codemirror_mode": {
    "name": "ipython",
    "version": 3
   },
   "file_extension": ".py",
   "mimetype": "text/x-python",
   "name": "python",
   "nbconvert_exporter": "python",
   "pygments_lexer": "ipython3",
   "version": "3.7.3"
  }
 },
 "nbformat": 4,
 "nbformat_minor": 2
}
